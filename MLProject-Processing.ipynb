{
 "cells": [
  {
   "cell_type": "code",
   "execution_count": 1,
   "id": "d22637c9",
   "metadata": {},
   "outputs": [],
   "source": [
    "# why using pre trained embedding is not helpful - https://datascience.stackexchange.com/questions/92856/the-reason-behind-using-a-pre-trained-model"
   ]
  },
  {
   "cell_type": "code",
   "execution_count": 2,
   "id": "da35e5d3",
   "metadata": {},
   "outputs": [],
   "source": [
    "import pandas as pd\n",
    "import numpy as np\n",
    "from sklearn.feature_extraction.text import CountVectorizer, TfidfVectorizer\n",
    "from sklearn.model_selection import train_test_split\n",
    "from sklearn.naive_bayes import MultinomialNB\n",
    "from sklearn.pipeline import make_pipeline\n",
    "from sklearn.metrics import accuracy_score\n"
   ]
  },
  {
   "cell_type": "code",
   "execution_count": 3,
   "id": "1178345f",
   "metadata": {},
   "outputs": [],
   "source": [
    "def train_and_evaluate(texts, labels):\n",
    "    X_train, X_test, y_train, y_test = train_test_split(texts, labels, test_size=0.2, random_state=42)\n",
    "    \n",
    "    representation_methods = {\n",
    "        'Bag of Words': CountVectorizer(),\n",
    "        'TF-IDF': TfidfVectorizer(),\n",
    "        'N-grams': CountVectorizer(ngram_range=(1, 2)),\n",
    "    }\n",
    "    \n",
    "    best_model = None\n",
    "    best_accuracy = 0\n",
    "    best_method = \"\"\n",
    "    \n",
    "    for name, vectorizer in representation_methods.items():\n",
    "        model = make_pipeline(vectorizer, MultinomialNB())\n",
    "        model.fit(X_train, y_train)\n",
    "        y_pred = model.predict(X_test)\n",
    "        accuracy = accuracy_score(y_test, y_pred)\n",
    "        print(f\"{name} Accuracy: {accuracy:.4f}\")\n",
    "        \n",
    "        if accuracy > best_accuracy:\n",
    "            best_accuracy = accuracy\n",
    "            best_model = model\n",
    "            best_method = name\n",
    "    \n",
    "    return best_model, best_method\n"
   ]
  },
  {
   "cell_type": "code",
   "execution_count": 4,
   "id": "f46be824",
   "metadata": {},
   "outputs": [],
   "source": [
    "def predict_text(model, text):\n",
    "    prediction = model.predict([text])[0]\n",
    "    prediction_prob = model.predict_proba([text])[0]\n",
    "    confidence = prediction_prob[prediction]\n",
    "    status = \"AI-written\" if prediction == 0 else \"Human-written\"\n",
    "    print(f\"Prediction: {status}, Confidence: {confidence:.4f}\")\n"
   ]
  },
  {
   "cell_type": "code",
   "execution_count": 5,
   "id": "80b2c78d",
   "metadata": {},
   "outputs": [],
   "source": [
    "df = pd.read_csv('Generated_Data.csv')"
   ]
  },
  {
   "cell_type": "code",
   "execution_count": 6,
   "id": "bc1800ee",
   "metadata": {},
   "outputs": [
    {
     "data": {
      "text/html": [
       "<div>\n",
       "<style scoped>\n",
       "    .dataframe tbody tr th:only-of-type {\n",
       "        vertical-align: middle;\n",
       "    }\n",
       "\n",
       "    .dataframe tbody tr th {\n",
       "        vertical-align: top;\n",
       "    }\n",
       "\n",
       "    .dataframe thead th {\n",
       "        text-align: right;\n",
       "    }\n",
       "</style>\n",
       "<table border=\"1\" class=\"dataframe\">\n",
       "  <thead>\n",
       "    <tr style=\"text-align: right;\">\n",
       "      <th></th>\n",
       "      <th>Unnamed: 0</th>\n",
       "      <th>Question</th>\n",
       "      <th>Text</th>\n",
       "      <th>LABEL</th>\n",
       "    </tr>\n",
       "  </thead>\n",
       "  <tbody>\n",
       "    <tr>\n",
       "      <th>0</th>\n",
       "      <td>7919</td>\n",
       "      <td>In \"The Challenge of Exploring Venus,\" the aut...</td>\n",
       "      <td>In this aricle , the author its trying to you ...</td>\n",
       "      <td>1</td>\n",
       "    </tr>\n",
       "    <tr>\n",
       "      <th>1</th>\n",
       "      <td>22</td>\n",
       "      <td>Write a letter to your state senator in which ...</td>\n",
       "      <td>Dear State Senator, I am writing to you today...</td>\n",
       "      <td>0</td>\n",
       "    </tr>\n",
       "    <tr>\n",
       "      <th>2</th>\n",
       "      <td>18</td>\n",
       "      <td>Your principal is considering changing school ...</td>\n",
       "      <td>Dear Principal, I am writing to share my view...</td>\n",
       "      <td>0</td>\n",
       "    </tr>\n",
       "    <tr>\n",
       "      <th>3</th>\n",
       "      <td>13</td>\n",
       "      <td>In the article \"Making Mona Lisa Smile,\" the a...</td>\n",
       "      <td>The recent development of facial recognition ...</td>\n",
       "      <td>0</td>\n",
       "    </tr>\n",
       "    <tr>\n",
       "      <th>4</th>\n",
       "      <td>6249</td>\n",
       "      <td>Your principal has decided that all students m...</td>\n",
       "      <td>Students shouldn't need to participate in extr...</td>\n",
       "      <td>1</td>\n",
       "    </tr>\n",
       "  </tbody>\n",
       "</table>\n",
       "</div>"
      ],
      "text/plain": [
       "   Unnamed: 0                                           Question  \\\n",
       "0        7919  In \"The Challenge of Exploring Venus,\" the aut...   \n",
       "1          22  Write a letter to your state senator in which ...   \n",
       "2          18  Your principal is considering changing school ...   \n",
       "3          13  In the article \"Making Mona Lisa Smile,\" the a...   \n",
       "4        6249  Your principal has decided that all students m...   \n",
       "\n",
       "                                                Text  LABEL  \n",
       "0  In this aricle , the author its trying to you ...      1  \n",
       "1   Dear State Senator, I am writing to you today...      0  \n",
       "2   Dear Principal, I am writing to share my view...      0  \n",
       "3   The recent development of facial recognition ...      0  \n",
       "4  Students shouldn't need to participate in extr...      1  "
      ]
     },
     "execution_count": 6,
     "metadata": {},
     "output_type": "execute_result"
    }
   ],
   "source": [
    "df.head()"
   ]
  },
  {
   "cell_type": "code",
   "execution_count": 7,
   "id": "77282e11",
   "metadata": {},
   "outputs": [
    {
     "name": "stdout",
     "output_type": "stream",
     "text": [
      "In \"The Challenge of Exploring Venus,\" the author suggests studying Venus is a worthy pursuit despite the dangers it presents. Using details from the article, write an essay evaluating how well the author supports this idea. Be sure to include: a claim that evaluates how well the author supports the idea that studying Venus is a worthy pursuit despite the dangers; an explanation of the evidence from the article that supports your claim; an introduction, a body, and a conclusion to your essay.\n"
     ]
    }
   ],
   "source": [
    "sample_question = df['Question'][0]\n",
    "print(sample_question)"
   ]
  },
  {
   "cell_type": "code",
   "execution_count": 8,
   "id": "654a1888",
   "metadata": {},
   "outputs": [],
   "source": [
    "text = df['Text']\n",
    "label = df['LABEL']"
   ]
  },
  {
   "cell_type": "code",
   "execution_count": 9,
   "id": "ede9f9d0",
   "metadata": {},
   "outputs": [
    {
     "name": "stdout",
     "output_type": "stream",
     "text": [
      "Bag of Words Accuracy: 0.6667\n",
      "TF-IDF Accuracy: 0.5833\n",
      "N-grams Accuracy: 0.6667\n"
     ]
    }
   ],
   "source": [
    "best_model, best_method = train_and_evaluate(text, label)"
   ]
  },
  {
   "cell_type": "code",
   "execution_count": 10,
   "id": "c901c04d",
   "metadata": {},
   "outputs": [
    {
     "name": "stdout",
     "output_type": "stream",
     "text": [
      "Prediction: AI-written, Confidence: 1.0000\n"
     ]
    }
   ],
   "source": [
    "#ai model\n",
    "new_text = \"The exploration of Venus, often regarded as Earth's twin, has long captivated the imagination of scientists and space enthusiasts alike. However, the hostile conditions on Venus present significant challenges to exploration. In the article 'The Challenge of Exploring Venus,' the author argues that despite these dangers, studying Venus remains a worthy pursuit. This essay evaluates the authors support for this idea by examining the evidence presented in the article.\"\n",
    "predict_text(best_model, new_text)"
   ]
  },
  {
   "cell_type": "markdown",
   "id": "f86d1247",
   "metadata": {},
   "source": [
    "## Complete Data"
   ]
  },
  {
   "cell_type": "code",
   "execution_count": 11,
   "id": "1617f28e",
   "metadata": {},
   "outputs": [],
   "source": [
    "mistral_df = pd.read_csv(\"mistral_data.csv\")"
   ]
  },
  {
   "cell_type": "code",
   "execution_count": 12,
   "id": "d77dc75f",
   "metadata": {},
   "outputs": [],
   "source": [
    "texts = mistral_df['Text']\n",
    "labels = mistral_df['LABEL']"
   ]
  },
  {
   "cell_type": "code",
   "execution_count": 13,
   "id": "649fd426",
   "metadata": {},
   "outputs": [
    {
     "name": "stdout",
     "output_type": "stream",
     "text": [
      "Bag of Words Accuracy: 0.9833\n",
      "TF-IDF Accuracy: 0.9333\n",
      "N-grams Accuracy: 0.9833\n"
     ]
    }
   ],
   "source": [
    "best_model, best_method = train_and_evaluate(texts, labels)"
   ]
  },
  {
   "cell_type": "code",
   "execution_count": 14,
   "id": "d4598bd5",
   "metadata": {},
   "outputs": [
    {
     "name": "stdout",
     "output_type": "stream",
     "text": [
      "Prediction: AI-written, Confidence: 1.0000\n"
     ]
    }
   ],
   "source": [
    "#ai\n",
    "new_text = \"The exploration of Venus, often regarded as Earth's twin, has long captivated the imagination of scientists and space enthusiasts alike. However, the hostile conditions on Venus present significant challenges to exploration. In the article 'The Challenge of Exploring Venus,' the author argues that despite these dangers, studying Venus remains a worthy pursuit. This essay evaluates the authors support for this idea by examining the evidence presented in the article.\"\n",
    "predict_text(best_model, new_text)"
   ]
  },
  {
   "cell_type": "code",
   "execution_count": 15,
   "id": "12a19ebb",
   "metadata": {},
   "outputs": [
    {
     "name": "stdout",
     "output_type": "stream",
     "text": [
      "Prediction: AI-written, Confidence: 0.6670\n"
     ]
    }
   ],
   "source": [
    "#human\n",
    "txt = 'Humans should not use mobile phone while driving as it can lead to potential accident as the driver might get distracted and not focus on the road'\n",
    "predict_text(best_model, txt)"
   ]
  },
  {
   "cell_type": "code",
   "execution_count": 16,
   "id": "858bfe36",
   "metadata": {},
   "outputs": [
    {
     "name": "stdout",
     "output_type": "stream",
     "text": [
      "Prediction: AI-written, Confidence: 1.0000\n"
     ]
    }
   ],
   "source": [
    "#paraphrased\n",
    "txt = \"In the fast-paced world of today, cell phones have become essential. However, given the high number of distracted driving incidents, their use while driving has come under scrutiny. Some contend that cell phone usage by drivers should be permitted under specific situations, while others think it should be strictly forbidden. I believe that using a cell phone in any way while operating a car is prohibited for drivers. First of all, using a cell phone while operating a vehicle is a serious distraction that raises the risk of collisions. The National Highway Traffic Safety Administration reports that 3,142 people died as a result of distracted driving in 2019. Distracted driving occurs when a driver uses a cell phone while operating a vehicle, diverting their focus from the road.\"\n",
    "predict_text(best_model, txt)"
   ]
  },
  {
   "cell_type": "markdown",
   "id": "348dc11d",
   "metadata": {},
   "source": [
    "# SVM"
   ]
  },
  {
   "cell_type": "code",
   "execution_count": 17,
   "id": "41aa3d49",
   "metadata": {},
   "outputs": [],
   "source": [
    "from sklearn.svm import SVC\n",
    "from sklearn.pipeline import Pipeline\n",
    "from sklearn.model_selection import train_test_split\n",
    "from sklearn.metrics import classification_report"
   ]
  },
  {
   "cell_type": "code",
   "execution_count": 18,
   "id": "2bd1d4e5",
   "metadata": {},
   "outputs": [],
   "source": [
    "def train_svm_model(texts, labels, kernel='rbf'):\n",
    "    model = Pipeline([\n",
    "        ('tfidf', TfidfVectorizer()),\n",
    "        ('svm', SVC(kernel=kernel, probability=True))\n",
    "    ])\n",
    "\n",
    "    X_train, X_test, y_train, y_test = train_test_split(texts, labels, test_size=0.2, random_state=42)\n",
    "\n",
    "    model.fit(X_train, y_train)\n",
    "    predictions = model.predict(X_test)\n",
    "    print(classification_report(y_test, predictions))\n",
    "    \n",
    "    return model"
   ]
  },
  {
   "cell_type": "code",
   "execution_count": 19,
   "id": "ef3141a7",
   "metadata": {},
   "outputs": [
    {
     "name": "stdout",
     "output_type": "stream",
     "text": [
      "              precision    recall  f1-score   support\n",
      "\n",
      "           0       1.00      0.17      0.29         6\n",
      "           1       0.55      1.00      0.71         6\n",
      "\n",
      "    accuracy                           0.58        12\n",
      "   macro avg       0.77      0.58      0.50        12\n",
      "weighted avg       0.77      0.58      0.50        12\n",
      "\n"
     ]
    }
   ],
   "source": [
    "model_sample = train_svm_model(text, label)"
   ]
  },
  {
   "cell_type": "code",
   "execution_count": 20,
   "id": "c09d71f7",
   "metadata": {},
   "outputs": [],
   "source": [
    "def predict_with_confidence(model, new_texts):\n",
    "    for text in new_texts:\n",
    "        prediction = model.predict([text])[0]\n",
    "        prediction_prob = model.predict_proba([text])[0]\n",
    "        confidence = max(prediction_prob)\n",
    "        status = \"AI-written\" if prediction == 0 else \"Human-written\"\n",
    "        print(f\"Prediction: {status}, Confidence: {confidence:.4f}\")\n"
   ]
  },
  {
   "cell_type": "code",
   "execution_count": 21,
   "id": "15c52d48",
   "metadata": {},
   "outputs": [
    {
     "name": "stdout",
     "output_type": "stream",
     "text": [
      "Prediction: AI-written, Confidence: 0.5673\n"
     ]
    }
   ],
   "source": [
    "#human written\n",
    "txt = 'Humans should not use mobile phone while driving as it can lead to potential accident as the driver might get distracted and not focus on the road'\n",
    "predict_with_confidence(model_sample, [txt])"
   ]
  },
  {
   "cell_type": "code",
   "execution_count": 22,
   "id": "d39438ad",
   "metadata": {},
   "outputs": [
    {
     "name": "stdout",
     "output_type": "stream",
     "text": [
      "Prediction: AI-written, Confidence: 0.6610\n"
     ]
    }
   ],
   "source": [
    "#ai written\n",
    "txt = \"Cell phones have become a necessity in today's fast-paced world. However, their use while driving has become a topic of debate due to the numerous accidents caused by distracted driving. While some argue that drivers should be allowed to use cell phones in certain capacities, others believe that their use while driving should be completely prohibited. In my opinion, drivers should not be able to use cell phones in any capacity while operating a vehicle. Firstly, using a cell phone while driving is a significant distraction that can lead to accidents. According to the National Highway Traffic Safety Administration, distracted driving claimed 3,142 lives in 2019. Cell phone use while driving is a form of distracted driving that takes the driver's attention away from the road, increasing the risk of accidents. Secondly, using a cell phone while driving impairs the driver's ability to react to changing road conditions. Studies have shown that drivers who use cell phones while driving have slower reaction times, making it difficult for them to avoid accidents. Moreover, using a cell phone while driving can also lead to tunnel vision, where the driver's peripheral vision is compromised, making it difficult to see other vehicles, pedestrians, or obstacles on the road. Thirdly, using a hands-free device while driving is not a safe alternative. While some argue that hands-free devices are safer than hand\"\n",
    "predict_with_confidence(model_sample, [txt])"
   ]
  },
  {
   "cell_type": "code",
   "execution_count": 23,
   "id": "e4c7bf5e",
   "metadata": {},
   "outputs": [
    {
     "name": "stdout",
     "output_type": "stream",
     "text": [
      "Prediction: AI-written, Confidence: 0.6461\n"
     ]
    }
   ],
   "source": [
    "#paraphrased \n",
    "txt = \"In the fast-paced world of today, cell phones have become essential. However, given the high number of distracted driving incidents, their use while driving has come under scrutiny. Some contend that cell phone usage by drivers should be permitted under specific situations, while others think it should be strictly forbidden. I believe that using a cell phone in any way while operating a car is prohibited for drivers. First of all, using a cell phone while operating a vehicle is a serious distraction that raises the risk of collisions. The National Highway Traffic Safety Administration reports that 3,142 people died as a result of distracted driving in 2019. Distracted driving occurs when a driver uses a cell phone while operating a vehicle, diverting their focus from the road.\"\n",
    "predict_with_confidence(model_sample, [txt])"
   ]
  },
  {
   "cell_type": "code",
   "execution_count": 24,
   "id": "d4329ca1",
   "metadata": {},
   "outputs": [
    {
     "name": "stdout",
     "output_type": "stream",
     "text": [
      "              precision    recall  f1-score   support\n",
      "\n",
      "           0       0.99      1.00      0.99        66\n",
      "           1       1.00      0.98      0.99        54\n",
      "\n",
      "    accuracy                           0.99       120\n",
      "   macro avg       0.99      0.99      0.99       120\n",
      "weighted avg       0.99      0.99      0.99       120\n",
      "\n"
     ]
    }
   ],
   "source": [
    "model_final = train_svm_model(texts, labels)"
   ]
  },
  {
   "cell_type": "code",
   "execution_count": 25,
   "id": "c3b08846",
   "metadata": {},
   "outputs": [
    {
     "name": "stdout",
     "output_type": "stream",
     "text": [
      "Prediction: AI-written, Confidence: 0.8627\n"
     ]
    }
   ],
   "source": [
    "#human written\n",
    "txt = 'Humans should not use mobile phone while driving as it can lead to potential accident as the driver might get distracted and not focus on the road'\n",
    "predict_with_confidence(model_final, [txt])"
   ]
  },
  {
   "cell_type": "code",
   "execution_count": 26,
   "id": "99eb39b3",
   "metadata": {},
   "outputs": [
    {
     "name": "stdout",
     "output_type": "stream",
     "text": [
      "Prediction: AI-written, Confidence: 0.9999\n"
     ]
    }
   ],
   "source": [
    "#ai written\n",
    "txt = \"Cell phones have become a necessity in today's fast-paced world. However, their use while driving has become a topic of debate due to the numerous accidents caused by distracted driving. While some argue that drivers should be allowed to use cell phones in certain capacities, others believe that their use while driving should be completely prohibited. In my opinion, drivers should not be able to use cell phones in any capacity while operating a vehicle. Firstly, using a cell phone while driving is a significant distraction that can lead to accidents. According to the National Highway Traffic Safety Administration, distracted driving claimed 3,142 lives in 2019. Cell phone use while driving is a form of distracted driving that takes the driver's attention away from the road, increasing the risk of accidents. Secondly, using a cell phone while driving impairs the driver's ability to react to changing road conditions. Studies have shown that drivers who use cell phones while driving have slower reaction times, making it difficult for them to avoid accidents. Moreover, using a cell phone while driving can also lead to tunnel vision, where the driver's peripheral vision is compromised, making it difficult to see other vehicles, pedestrians, or obstacles on the road. Thirdly, using a hands-free device while driving is not a safe alternative. While some argue that hands-free devices are safer than hand\"\n",
    "predict_with_confidence(model_final, [txt])"
   ]
  },
  {
   "cell_type": "code",
   "execution_count": 27,
   "id": "be5fdf28",
   "metadata": {},
   "outputs": [
    {
     "name": "stdout",
     "output_type": "stream",
     "text": [
      "Prediction: AI-written, Confidence: 0.9986\n"
     ]
    }
   ],
   "source": [
    "#paraphrased \n",
    "txt = \"In the fast-paced world of today, cell phones have become essential. However, given the high number of distracted driving incidents, their use while driving has come under scrutiny. Some contend that cell phone usage by drivers should be permitted under specific situations, while others think it should be strictly forbidden. I believe that using a cell phone in any way while operating a car is prohibited for drivers. First of all, using a cell phone while operating a vehicle is a serious distraction that raises the risk of collisions. The National Highway Traffic Safety Administration reports that 3,142 people died as a result of distracted driving in 2019. Distracted driving occurs when a driver uses a cell phone while operating a vehicle, diverting their focus from the road.\"\n",
    "predict_with_confidence(model_final, [txt])"
   ]
  },
  {
   "cell_type": "markdown",
   "id": "65d94c17",
   "metadata": {},
   "source": [
    "## Random Forest"
   ]
  },
  {
   "cell_type": "code",
   "execution_count": 28,
   "id": "1082cf87",
   "metadata": {},
   "outputs": [],
   "source": [
    "import spacy\n",
    "import nltk\n",
    "from textblob import TextBlob\n",
    "from sklearn.model_selection import train_test_split\n",
    "from sklearn.ensemble import RandomForestClassifier\n",
    "from sklearn.metrics import classification_report\n",
    "import numpy as np\n",
    "from tqdm import tqdm \n",
    "\n",
    "nlp = spacy.load(\"en_core_web_sm\")\n",
    "\n",
    "def extract_features(doc):\n",
    "    spacy_doc = nlp(doc)\n",
    "    blob = TextBlob(doc)\n",
    "\n",
    "    avg_sent_len = np.mean([len(sent) for sent in spacy_doc.sents])\n",
    "    sentiment_polarity = blob.sentiment.polarity\n",
    "    sentiment_subjectivity = blob.sentiment.subjectivity\n",
    "    lexical_diversity = len(set([token.text for token in spacy_doc])) / len(spacy_doc)\n",
    "    noun_phrases_count = len(blob.noun_phrases)\n",
    "\n",
    "    return pd.Series({\n",
    "        'avg_sent_len': avg_sent_len,\n",
    "        'sentiment_polarity': sentiment_polarity,\n",
    "        'sentiment_subjectivity': sentiment_subjectivity,\n",
    "        'lexical_diversity': lexical_diversity,\n",
    "        'noun_phrases_count': noun_phrases_count\n",
    "    })\n",
    "\n",
    "def prepare_dataset(texts, labels):\n",
    "    features_list = []  \n",
    "\n",
    "    for text in tqdm(texts):\n",
    "        features = extract_features(str(text))\n",
    "        features_list.append(features)\n",
    "\n",
    "    feature_df = pd.DataFrame(features_list)\n",
    "\n",
    "    return feature_df, np.array(labels)"
   ]
  },
  {
   "cell_type": "code",
   "execution_count": 29,
   "id": "543b5e33",
   "metadata": {},
   "outputs": [
    {
     "name": "stderr",
     "output_type": "stream",
     "text": [
      "100%|███████████████████████████████████████████████████████████████████████| 600/600 [00:39<00:00, 15.27it/s]\n"
     ]
    }
   ],
   "source": [
    "x, y = prepare_dataset(texts, labels)"
   ]
  },
  {
   "cell_type": "code",
   "execution_count": 30,
   "id": "de0cb66e",
   "metadata": {},
   "outputs": [
    {
     "data": {
      "text/html": [
       "<div>\n",
       "<style scoped>\n",
       "    .dataframe tbody tr th:only-of-type {\n",
       "        vertical-align: middle;\n",
       "    }\n",
       "\n",
       "    .dataframe tbody tr th {\n",
       "        vertical-align: top;\n",
       "    }\n",
       "\n",
       "    .dataframe thead th {\n",
       "        text-align: right;\n",
       "    }\n",
       "</style>\n",
       "<table border=\"1\" class=\"dataframe\">\n",
       "  <thead>\n",
       "    <tr style=\"text-align: right;\">\n",
       "      <th></th>\n",
       "      <th>avg_sent_len</th>\n",
       "      <th>sentiment_polarity</th>\n",
       "      <th>sentiment_subjectivity</th>\n",
       "      <th>lexical_diversity</th>\n",
       "      <th>noun_phrases_count</th>\n",
       "    </tr>\n",
       "  </thead>\n",
       "  <tbody>\n",
       "    <tr>\n",
       "      <th>0</th>\n",
       "      <td>35.333333</td>\n",
       "      <td>0.183333</td>\n",
       "      <td>0.427778</td>\n",
       "      <td>0.740566</td>\n",
       "      <td>26.0</td>\n",
       "    </tr>\n",
       "    <tr>\n",
       "      <th>1</th>\n",
       "      <td>20.833333</td>\n",
       "      <td>0.132336</td>\n",
       "      <td>0.413255</td>\n",
       "      <td>0.448000</td>\n",
       "      <td>27.0</td>\n",
       "    </tr>\n",
       "    <tr>\n",
       "      <th>2</th>\n",
       "      <td>18.853659</td>\n",
       "      <td>0.150628</td>\n",
       "      <td>0.556361</td>\n",
       "      <td>0.398448</td>\n",
       "      <td>54.0</td>\n",
       "    </tr>\n",
       "    <tr>\n",
       "      <th>3</th>\n",
       "      <td>24.800000</td>\n",
       "      <td>0.197917</td>\n",
       "      <td>0.441250</td>\n",
       "      <td>0.762097</td>\n",
       "      <td>29.0</td>\n",
       "    </tr>\n",
       "    <tr>\n",
       "      <th>4</th>\n",
       "      <td>21.421053</td>\n",
       "      <td>0.039841</td>\n",
       "      <td>0.427230</td>\n",
       "      <td>0.584767</td>\n",
       "      <td>47.0</td>\n",
       "    </tr>\n",
       "    <tr>\n",
       "      <th>...</th>\n",
       "      <td>...</td>\n",
       "      <td>...</td>\n",
       "      <td>...</td>\n",
       "      <td>...</td>\n",
       "      <td>...</td>\n",
       "    </tr>\n",
       "    <tr>\n",
       "      <th>595</th>\n",
       "      <td>22.400000</td>\n",
       "      <td>0.151667</td>\n",
       "      <td>0.466714</td>\n",
       "      <td>0.750000</td>\n",
       "      <td>27.0</td>\n",
       "    </tr>\n",
       "    <tr>\n",
       "      <th>596</th>\n",
       "      <td>25.888889</td>\n",
       "      <td>0.241667</td>\n",
       "      <td>0.574510</td>\n",
       "      <td>0.506438</td>\n",
       "      <td>21.0</td>\n",
       "    </tr>\n",
       "    <tr>\n",
       "      <th>597</th>\n",
       "      <td>25.100000</td>\n",
       "      <td>0.134583</td>\n",
       "      <td>0.452083</td>\n",
       "      <td>0.760956</td>\n",
       "      <td>28.0</td>\n",
       "    </tr>\n",
       "    <tr>\n",
       "      <th>598</th>\n",
       "      <td>22.888889</td>\n",
       "      <td>0.130833</td>\n",
       "      <td>0.356389</td>\n",
       "      <td>0.325243</td>\n",
       "      <td>24.0</td>\n",
       "    </tr>\n",
       "    <tr>\n",
       "      <th>599</th>\n",
       "      <td>27.250000</td>\n",
       "      <td>0.160682</td>\n",
       "      <td>0.595000</td>\n",
       "      <td>0.646789</td>\n",
       "      <td>26.0</td>\n",
       "    </tr>\n",
       "  </tbody>\n",
       "</table>\n",
       "<p>600 rows × 5 columns</p>\n",
       "</div>"
      ],
      "text/plain": [
       "     avg_sent_len  sentiment_polarity  sentiment_subjectivity  \\\n",
       "0       35.333333            0.183333                0.427778   \n",
       "1       20.833333            0.132336                0.413255   \n",
       "2       18.853659            0.150628                0.556361   \n",
       "3       24.800000            0.197917                0.441250   \n",
       "4       21.421053            0.039841                0.427230   \n",
       "..            ...                 ...                     ...   \n",
       "595     22.400000            0.151667                0.466714   \n",
       "596     25.888889            0.241667                0.574510   \n",
       "597     25.100000            0.134583                0.452083   \n",
       "598     22.888889            0.130833                0.356389   \n",
       "599     27.250000            0.160682                0.595000   \n",
       "\n",
       "     lexical_diversity  noun_phrases_count  \n",
       "0             0.740566                26.0  \n",
       "1             0.448000                27.0  \n",
       "2             0.398448                54.0  \n",
       "3             0.762097                29.0  \n",
       "4             0.584767                47.0  \n",
       "..                 ...                 ...  \n",
       "595           0.750000                27.0  \n",
       "596           0.506438                21.0  \n",
       "597           0.760956                28.0  \n",
       "598           0.325243                24.0  \n",
       "599           0.646789                26.0  \n",
       "\n",
       "[600 rows x 5 columns]"
      ]
     },
     "execution_count": 30,
     "metadata": {},
     "output_type": "execute_result"
    }
   ],
   "source": [
    "x"
   ]
  },
  {
   "cell_type": "code",
   "execution_count": 31,
   "id": "4bf9aa22",
   "metadata": {},
   "outputs": [
    {
     "name": "stdout",
     "output_type": "stream",
     "text": [
      "              precision    recall  f1-score   support\n",
      "\n",
      "           0       0.88      0.70      0.78        66\n",
      "           1       0.71      0.89      0.79        54\n",
      "\n",
      "    accuracy                           0.78       120\n",
      "   macro avg       0.80      0.79      0.78       120\n",
      "weighted avg       0.80      0.78      0.78       120\n",
      "\n"
     ]
    }
   ],
   "source": [
    "X_train, X_test, y_train, y_test = train_test_split(x, y, test_size=0.2, random_state=42)\n",
    "\n",
    "clf = RandomForestClassifier(n_estimators=100, random_state=42)\n",
    "clf.fit(X_train, y_train)\n",
    "\n",
    "y_pred = clf.predict(X_test)\n",
    "print(classification_report(y_test, y_pred))"
   ]
  },
  {
   "cell_type": "code",
   "execution_count": 32,
   "id": "78f5daa3",
   "metadata": {},
   "outputs": [
    {
     "name": "stdout",
     "output_type": "stream",
     "text": [
      "0\n"
     ]
    },
    {
     "name": "stderr",
     "output_type": "stream",
     "text": [
      "100%|███████████████████████████████████████████████████████████████████████████| 1/1 [00:00<00:00, 19.15it/s]\n"
     ]
    }
   ],
   "source": [
    "x_sample = text[9]\n",
    "y_sample = label[9]\n",
    "\n",
    "print(y_sample)\n",
    "\n",
    "x_sample, y_sample = prepare_dataset([x_sample], [y_sample])"
   ]
  },
  {
   "cell_type": "code",
   "execution_count": 117,
   "id": "ba4ea49a",
   "metadata": {},
   "outputs": [
    {
     "data": {
      "text/html": [
       "<div>\n",
       "<style scoped>\n",
       "    .dataframe tbody tr th:only-of-type {\n",
       "        vertical-align: middle;\n",
       "    }\n",
       "\n",
       "    .dataframe tbody tr th {\n",
       "        vertical-align: top;\n",
       "    }\n",
       "\n",
       "    .dataframe thead th {\n",
       "        text-align: right;\n",
       "    }\n",
       "</style>\n",
       "<table border=\"1\" class=\"dataframe\">\n",
       "  <thead>\n",
       "    <tr style=\"text-align: right;\">\n",
       "      <th></th>\n",
       "      <th>avg_sent_len</th>\n",
       "      <th>sentiment_polarity</th>\n",
       "      <th>sentiment_subjectivity</th>\n",
       "      <th>lexical_diversity</th>\n",
       "      <th>noun_phrases_count</th>\n",
       "    </tr>\n",
       "  </thead>\n",
       "  <tbody>\n",
       "    <tr>\n",
       "      <th>0</th>\n",
       "      <td>22.846154</td>\n",
       "      <td>0.026833</td>\n",
       "      <td>0.369167</td>\n",
       "      <td>0.518519</td>\n",
       "      <td>38.0</td>\n",
       "    </tr>\n",
       "  </tbody>\n",
       "</table>\n",
       "</div>"
      ],
      "text/plain": [
       "   avg_sent_len  sentiment_polarity  sentiment_subjectivity  \\\n",
       "0     22.846154            0.026833                0.369167   \n",
       "\n",
       "   lexical_diversity  noun_phrases_count  \n",
       "0           0.518519                38.0  "
      ]
     },
     "execution_count": 117,
     "metadata": {},
     "output_type": "execute_result"
    }
   ],
   "source": [
    "x_sample"
   ]
  },
  {
   "cell_type": "code",
   "execution_count": 118,
   "id": "b39f4d66",
   "metadata": {},
   "outputs": [
    {
     "data": {
      "text/plain": [
       "array([[0.74, 0.26]])"
      ]
     },
     "execution_count": 118,
     "metadata": {},
     "output_type": "execute_result"
    }
   ],
   "source": [
    "clf.predict_proba(x_sample)"
   ]
  },
  {
   "cell_type": "code",
   "execution_count": 119,
   "id": "893a987c",
   "metadata": {},
   "outputs": [
    {
     "data": {
      "text/plain": [
       "array([0])"
      ]
     },
     "execution_count": 119,
     "metadata": {},
     "output_type": "execute_result"
    }
   ],
   "source": [
    "y_sample"
   ]
  },
  {
   "cell_type": "markdown",
   "id": "a3edda19",
   "metadata": {},
   "source": [
    "## Just human data"
   ]
  },
  {
   "cell_type": "code",
   "execution_count": 120,
   "id": "23539f9d",
   "metadata": {},
   "outputs": [],
   "source": [
    "persuade_df = pd.read_csv(\"persuade.csv\")\n",
    "filtered_df = persuade_df['assignment'].iloc[400:500]\n",
    "filtered_df_label = np.ones(shape = [100])"
   ]
  },
  {
   "cell_type": "code",
   "execution_count": 121,
   "id": "a6fb5629",
   "metadata": {},
   "outputs": [
    {
     "name": "stdout",
     "output_type": "stream",
     "text": [
      "(100,) (100,)\n"
     ]
    }
   ],
   "source": [
    "print(filtered_df.shape, filtered_df_label.shape)"
   ]
  },
  {
   "cell_type": "code",
   "execution_count": 122,
   "id": "ca67732c",
   "metadata": {},
   "outputs": [
    {
     "name": "stderr",
     "output_type": "stream",
     "text": [
      "100%|███████████████████████████████████████████████████████████████████████| 100/100 [00:01<00:00, 96.65it/s]\n"
     ]
    }
   ],
   "source": [
    "x_filtered, y_filtered = prepare_dataset(filtered_df, filtered_df_label)"
   ]
  },
  {
   "cell_type": "code",
   "execution_count": 123,
   "id": "e0ac4e4b",
   "metadata": {},
   "outputs": [
    {
     "name": "stdout",
     "output_type": "stream",
     "text": [
      "(100, 5) (100,)\n"
     ]
    }
   ],
   "source": [
    "print(x_filtered.shape, y_filtered.shape)"
   ]
  },
  {
   "cell_type": "code",
   "execution_count": 124,
   "id": "078028f9",
   "metadata": {},
   "outputs": [],
   "source": [
    "y_filtered_predict = clf.predict(x_filtered)"
   ]
  },
  {
   "cell_type": "code",
   "execution_count": 125,
   "id": "12ce2c6f",
   "metadata": {},
   "outputs": [
    {
     "data": {
      "text/plain": [
       "0"
      ]
     },
     "execution_count": 125,
     "metadata": {},
     "output_type": "execute_result"
    }
   ],
   "source": [
    "np.sum(y_filtered_predict[y_filtered_predict == y_filtered])"
   ]
  },
  {
   "cell_type": "code",
   "execution_count": 126,
   "id": "2e95b636",
   "metadata": {},
   "outputs": [
    {
     "data": {
      "text/plain": [
       "array([0, 0, 0, 0, 0, 0, 0, 0, 0, 0, 0, 0, 0, 0, 0, 0, 0, 0, 0, 0, 0, 0,\n",
       "       0, 0, 0, 0, 0, 0, 0, 0, 0, 0, 0, 0, 0, 0, 0, 0, 0, 0, 0, 0, 0, 0,\n",
       "       0, 0, 0, 0, 0, 0, 0, 0, 0, 0, 0, 0, 0, 0, 0, 0, 0, 0, 0, 0, 0, 0,\n",
       "       0, 0, 0, 0, 0, 0, 0, 0, 0, 0, 0, 0, 0, 0, 0, 0, 0, 0, 0, 0, 0, 0,\n",
       "       0, 0, 0, 0, 0, 0, 0, 0, 0, 0, 0, 0])"
      ]
     },
     "execution_count": 126,
     "metadata": {},
     "output_type": "execute_result"
    }
   ],
   "source": [
    "y_filtered_predict[0:100]"
   ]
  },
  {
   "cell_type": "code",
   "execution_count": 127,
   "id": "1a34a03d",
   "metadata": {},
   "outputs": [],
   "source": [
    "y_filtered_prob = clf.predict_proba(x_filtered)"
   ]
  },
  {
   "cell_type": "code",
   "execution_count": 128,
   "id": "66b74541",
   "metadata": {},
   "outputs": [
    {
     "data": {
      "text/plain": [
       "array([[0.79, 0.21],\n",
       "       [0.79, 0.21],\n",
       "       [0.79, 0.21],\n",
       "       [0.79, 0.21],\n",
       "       [0.79, 0.21],\n",
       "       [0.79, 0.21],\n",
       "       [0.79, 0.21],\n",
       "       [0.79, 0.21],\n",
       "       [0.79, 0.21],\n",
       "       [0.79, 0.21]])"
      ]
     },
     "execution_count": 128,
     "metadata": {},
     "output_type": "execute_result"
    }
   ],
   "source": [
    "y_filtered_prob[0:10]"
   ]
  },
  {
   "cell_type": "markdown",
   "id": "21ff708a",
   "metadata": {},
   "source": [
    "## PCA"
   ]
  },
  {
   "cell_type": "code",
   "execution_count": 129,
   "id": "3bb8b075",
   "metadata": {},
   "outputs": [],
   "source": [
    "import pandas as pd\n",
    "import numpy as np\n",
    "from sklearn.decomposition import PCA\n",
    "from sklearn.preprocessing import StandardScaler\n",
    "import matplotlib.pyplot as plt"
   ]
  },
  {
   "cell_type": "code",
   "execution_count": 134,
   "id": "8f1c2277",
   "metadata": {},
   "outputs": [],
   "source": [
    "features = ['avg_sent_len', 'sentiment_polarity', 'sentiment_subjectivity', 'lexical_diversity', 'noun_phrases_count']\n",
    "x_pca = x.loc[:, features].values\n",
    "y_pca = pd.Series(y)"
   ]
  },
  {
   "cell_type": "code",
   "execution_count": 135,
   "id": "67fbfb8f",
   "metadata": {},
   "outputs": [],
   "source": [
    "#standardise the variables \n",
    "x_pca = StandardScaler().fit_transform(x_pca)"
   ]
  },
  {
   "cell_type": "code",
   "execution_count": 153,
   "id": "26fcfa96",
   "metadata": {},
   "outputs": [],
   "source": [
    "pca = PCA(n_components=1)\n",
    "principalComponents = pca.fit_transform(x_pca)\n",
    "principalDf = pd.DataFrame(data = principalComponents, columns = ['principal component 1'])"
   ]
  },
  {
   "cell_type": "code",
   "execution_count": 154,
   "id": "fd861cdb",
   "metadata": {},
   "outputs": [],
   "source": [
    "finalDf = pd.concat([principalDf, y_pca], axis = 1)"
   ]
  },
  {
   "cell_type": "code",
   "execution_count": 159,
   "id": "c9557a40",
   "metadata": {},
   "outputs": [
    {
     "data": {
      "text/plain": [
       "600"
      ]
     },
     "execution_count": 159,
     "metadata": {},
     "output_type": "execute_result"
    }
   ],
   "source": [
    "len(finalDf)"
   ]
  },
  {
   "cell_type": "code",
   "execution_count": null,
   "id": "dfe937b0",
   "metadata": {},
   "outputs": [],
   "source": []
  },
  {
   "cell_type": "code",
   "execution_count": 162,
   "id": "a9988549",
   "metadata": {},
   "outputs": [
    {
     "data": {
      "image/png": "[encoded data removed]",
      "text/plain": [
       "<Figure size 1000x600 with 1 Axes>"
      ]
     },
     "metadata": {},
     "output_type": "display_data"
    }
   ],
   "source": [
    "import matplotlib.pyplot as plt\n",
    "\n",
    "plt.figure(figsize=(10,6))\n",
    "\n",
    "targets = [0, 1]\n",
    "colors = ['r', 'b']\n",
    "\n",
    "for target, color in zip(targets, colors):\n",
    "    indicesToKeep = finalDf[0] == target \n",
    "    y_pos = [0] * len(finalDf.loc[indicesToKeep])\n",
    "    plt.scatter(finalDf.loc[indicesToKeep, 'principal component 1'],\n",
    "                y_pos,\n",
    "                c=color, s=50, label=target)\n",
    "    \n",
    "plt.xlabel('Principal Component 1')\n",
    "plt.yticks([]) \n",
    "plt.title('1D Visualization of PCA')\n",
    "plt.legend(title='Target')\n",
    "plt.grid(True, axis='x')  \n",
    "plt.show()\n"
   ]
  },
  {
   "cell_type": "code",
   "execution_count": 163,
   "id": "468935ba",
   "metadata": {},
   "outputs": [],
   "source": [
    "pca = PCA(n_components=2)\n",
    "principalComponents = pca.fit_transform(x_pca)\n",
    "principalDf = pd.DataFrame(data = principalComponents, columns = ['principal component 1', 'principal component 2'])"
   ]
  },
  {
   "cell_type": "code",
   "execution_count": 164,
   "id": "f645f41f",
   "metadata": {},
   "outputs": [],
   "source": [
    "finalDf = pd.concat([principalDf, y_pca], axis = 1)"
   ]
  },
  {
   "cell_type": "code",
   "execution_count": 165,
   "id": "f1c9263f",
   "metadata": {},
   "outputs": [
    {
     "data": {
      "text/html": [
       "<div>\n",
       "<style scoped>\n",
       "    .dataframe tbody tr th:only-of-type {\n",
       "        vertical-align: middle;\n",
       "    }\n",
       "\n",
       "    .dataframe tbody tr th {\n",
       "        vertical-align: top;\n",
       "    }\n",
       "\n",
       "    .dataframe thead th {\n",
       "        text-align: right;\n",
       "    }\n",
       "</style>\n",
       "<table border=\"1\" class=\"dataframe\">\n",
       "  <thead>\n",
       "    <tr style=\"text-align: right;\">\n",
       "      <th></th>\n",
       "      <th>principal component 1</th>\n",
       "      <th>principal component 2</th>\n",
       "      <th>0</th>\n",
       "    </tr>\n",
       "  </thead>\n",
       "  <tbody>\n",
       "    <tr>\n",
       "      <th>0</th>\n",
       "      <td>-1.364619</td>\n",
       "      <td>1.376393</td>\n",
       "      <td>0</td>\n",
       "    </tr>\n",
       "    <tr>\n",
       "      <th>1</th>\n",
       "      <td>0.005509</td>\n",
       "      <td>-0.798541</td>\n",
       "      <td>1</td>\n",
       "    </tr>\n",
       "    <tr>\n",
       "      <th>2</th>\n",
       "      <td>0.579934</td>\n",
       "      <td>-1.341522</td>\n",
       "      <td>1</td>\n",
       "    </tr>\n",
       "    <tr>\n",
       "      <th>3</th>\n",
       "      <td>-0.717004</td>\n",
       "      <td>0.874667</td>\n",
       "      <td>0</td>\n",
       "    </tr>\n",
       "    <tr>\n",
       "      <th>4</th>\n",
       "      <td>-1.417590</td>\n",
       "      <td>-1.120788</td>\n",
       "      <td>1</td>\n",
       "    </tr>\n",
       "    <tr>\n",
       "      <th>...</th>\n",
       "      <td>...</td>\n",
       "      <td>...</td>\n",
       "      <td>...</td>\n",
       "    </tr>\n",
       "    <tr>\n",
       "      <th>595</th>\n",
       "      <td>-0.666472</td>\n",
       "      <td>0.824538</td>\n",
       "      <td>0</td>\n",
       "    </tr>\n",
       "    <tr>\n",
       "      <th>596</th>\n",
       "      <td>1.186823</td>\n",
       "      <td>1.060003</td>\n",
       "      <td>0</td>\n",
       "    </tr>\n",
       "    <tr>\n",
       "      <th>597</th>\n",
       "      <td>-1.067093</td>\n",
       "      <td>0.860015</td>\n",
       "      <td>0</td>\n",
       "    </tr>\n",
       "    <tr>\n",
       "      <th>598</th>\n",
       "      <td>0.043963</td>\n",
       "      <td>-1.375620</td>\n",
       "      <td>1</td>\n",
       "    </tr>\n",
       "    <tr>\n",
       "      <th>599</th>\n",
       "      <td>0.125506</td>\n",
       "      <td>1.447252</td>\n",
       "      <td>1</td>\n",
       "    </tr>\n",
       "  </tbody>\n",
       "</table>\n",
       "<p>600 rows × 3 columns</p>\n",
       "</div>"
      ],
      "text/plain": [
       "     principal component 1  principal component 2  0\n",
       "0                -1.364619               1.376393  0\n",
       "1                 0.005509              -0.798541  1\n",
       "2                 0.579934              -1.341522  1\n",
       "3                -0.717004               0.874667  0\n",
       "4                -1.417590              -1.120788  1\n",
       "..                     ...                    ... ..\n",
       "595              -0.666472               0.824538  0\n",
       "596               1.186823               1.060003  0\n",
       "597              -1.067093               0.860015  0\n",
       "598               0.043963              -1.375620  1\n",
       "599               0.125506               1.447252  1\n",
       "\n",
       "[600 rows x 3 columns]"
      ]
     },
     "execution_count": 165,
     "metadata": {},
     "output_type": "execute_result"
    }
   ],
   "source": [
    "finalDf"
   ]
  },
  {
   "cell_type": "code",
   "execution_count": 166,
   "id": "59727bd3",
   "metadata": {},
   "outputs": [
    {
     "data": {
      "image/png": "[encoded data removed]",
      "text/plain": [
       "<Figure size 800x800 with 1 Axes>"
      ]
     },
     "metadata": {},
     "output_type": "display_data"
    }
   ],
   "source": [
    "plt.figure(figsize=(8,8))\n",
    "\n",
    "targets = [0, 1]\n",
    "colors = ['r', 'b']\n",
    "\n",
    "for target, color in zip(targets, colors):\n",
    "    indicesToKeep = finalDf[0] == target\n",
    "    plt.scatter(finalDf.loc[indicesToKeep, 'principal component 1'],\n",
    "                finalDf.loc[indicesToKeep, 'principal component 2'],\n",
    "                c = color, s = 50)\n",
    "    \n",
    "plt.xlabel('Principal Component 1')\n",
    "plt.ylabel('Principal Component 2')\n",
    "plt.title('2 component PCA')\n",
    "plt.legend(targets)\n",
    "plt.grid(True)\n",
    "plt.show()"
   ]
  },
  {
   "cell_type": "code",
   "execution_count": 148,
   "id": "dd372fe6",
   "metadata": {},
   "outputs": [
    {
     "data": {
      "text/plain": [
       "array([[-1.36461876,  1.37639325],\n",
       "       [ 0.00550928, -0.79854077],\n",
       "       [ 0.57993425, -1.3415224 ],\n",
       "       ...,\n",
       "       [-1.0670932 ,  0.86001527],\n",
       "       [ 0.04396312, -1.37561994],\n",
       "       [ 0.12550587,  1.44725201]])"
      ]
     },
     "execution_count": 148,
     "metadata": {},
     "output_type": "execute_result"
    }
   ],
   "source": [
    "pca.fit_transform(x_pca)"
   ]
  },
  {
   "cell_type": "code",
   "execution_count": 167,
   "id": "776e1379",
   "metadata": {},
   "outputs": [
    {
     "name": "stdout",
     "output_type": "stream",
     "text": [
      "Explained variance ratio: [0.26424211 0.21544052]\n"
     ]
    }
   ],
   "source": [
    "# The first principal component (PC1) explains about 26.42% of the variance.\n",
    "# The second principal component (PC2) explains about 21.54% of the variance.\n",
    "# Combined, PC1 and PC2 account for approximately 47.96% of the total variance in your dataset.\n",
    "\n",
    "# 52% of the variance remains unaccounted for in these two components.\n",
    "print(\"Explained variance ratio:\", pca.explained_variance_ratio_)"
   ]
  },
  {
   "cell_type": "code",
   "execution_count": 168,
   "id": "40475dcf",
   "metadata": {},
   "outputs": [
    {
     "name": "stdout",
     "output_type": "stream",
     "text": [
      "Explained variance: [1.32341624 1.07900092]\n"
     ]
    }
   ],
   "source": [
    "print(\"Explained variance:\", pca.explained_variance_)"
   ]
  },
  {
   "cell_type": "code",
   "execution_count": 169,
   "id": "7631593b",
   "metadata": {},
   "outputs": [
    {
     "name": "stdout",
     "output_type": "stream",
     "text": [
      "                             PC1       PC2\n",
      "avg_sent_len           -0.393873  0.366532\n",
      "sentiment_polarity      0.595589  0.182106\n",
      "sentiment_subjectivity  0.421554  0.454837\n",
      "lexical_diversity      -0.490094  0.600366\n",
      "noun_phrases_count     -0.268771 -0.514952\n"
     ]
    }
   ],
   "source": [
    "# each principal component provide insights into how each original feature contributes to the \n",
    "# respective principal component\n",
    "\n",
    "\n",
    "# Interpretation: PC1 is heavily influenced by sentiment_polarity, sentiment_subjectivity, \n",
    "# and negatively influenced by lexical_diversity and avg_sent_len. This component might be capturing \n",
    "# aspects of textual sentiment and complexity where higher sentiment and subjectivity associate with less \n",
    "# diversity and shorter sentences.\n",
    "\n",
    "# Interpretation: PC2 shows a strong positive loading for lexical_diversity and sentiment_subjectivity \n",
    "# and a strong negative loading for noun_phrases_count. This suggests that PC2 might be distinguishing \n",
    "# texts based on their lexical richness and noun usage—potentially differentiating between more descriptive \n",
    "# or narrative-driven texts versus others.\n",
    "\n",
    "\n",
    "# Get the loadings of the first two components\n",
    "loadings = pca.components_.T\n",
    "\n",
    "# Create a DataFrame of loadings for easier interpretation\n",
    "df_loadings = pd.DataFrame(loadings, columns=['PC1', 'PC2'], index=features)\n",
    "print(df_loadings)\n"
   ]
  },
  {
   "cell_type": "code",
   "execution_count": 170,
   "id": "fedf8f22",
   "metadata": {},
   "outputs": [],
   "source": [
    "pca = PCA(n_components=3)\n",
    "principalComponents = pca.fit_transform(x_pca)\n",
    "\n",
    "principalDf = pd.DataFrame(data=principalComponents, columns=['PC1', 'PC2', 'PC3'])\n",
    "\n",
    "finalDf = pd.concat([principalDf, y_pca], axis=1)"
   ]
  },
  {
   "cell_type": "code",
   "execution_count": 172,
   "id": "9d3fd922",
   "metadata": {},
   "outputs": [
    {
     "data": {
      "image/png": "[encoded data removed]",
      "text/plain": [
       "<Figure size 1000x800 with 1 Axes>"
      ]
     },
     "metadata": {},
     "output_type": "display_data"
    }
   ],
   "source": [
    "from mpl_toolkits.mplot3d import Axes3D\n",
    "\n",
    "fig = plt.figure(figsize=(10, 8))\n",
    "ax = fig.add_subplot(111, projection='3d')\n",
    "\n",
    "targets = [0, 1]\n",
    "colors = ['r', 'g', 'b'] \n",
    "\n",
    "for target, color in zip(targets, colors):\n",
    "    indicesToKeep = finalDf[0] == target\n",
    "    ax.scatter(finalDf.loc[indicesToKeep, 'PC1'],\n",
    "               finalDf.loc[indicesToKeep, 'PC2'],\n",
    "               finalDf.loc[indicesToKeep, 'PC3'],\n",
    "               c=color, s=50, label=target)\n",
    "\n",
    "ax.set_xlabel('Principal Component 1')\n",
    "ax.set_ylabel('Principal Component 2')\n",
    "ax.set_zlabel('Principal Component 3')\n",
    "ax.set_title('3 Component PCA')\n",
    "ax.legend(targets)\n",
    "ax.grid(True)\n",
    "plt.show()\n"
   ]
  },
  {
   "cell_type": "code",
   "execution_count": 173,
   "id": "5157c4dd",
   "metadata": {},
   "outputs": [
    {
     "name": "stdout",
     "output_type": "stream",
     "text": [
      "Explained variance ratio: [0.26424211 0.21544052 0.20323191]\n"
     ]
    }
   ],
   "source": [
    "print(\"Explained variance ratio:\", pca.explained_variance_ratio_)"
   ]
  },
  {
   "cell_type": "code",
   "execution_count": 174,
   "id": "4e81785f",
   "metadata": {},
   "outputs": [
    {
     "name": "stdout",
     "output_type": "stream",
     "text": [
      "                             PC1       PC2       PC3\n",
      "avg_sent_len           -0.393873  0.366532  0.607790\n",
      "sentiment_polarity      0.595589  0.182106  0.351813\n",
      "sentiment_subjectivity  0.421554  0.454837  0.290528\n",
      "lexical_diversity      -0.490094  0.600366 -0.156905\n",
      "noun_phrases_count     -0.268771 -0.514952  0.630708\n"
     ]
    }
   ],
   "source": [
    "loadings = pca.components_.T\n",
    "\n",
    "df_loadings = pd.DataFrame(loadings, columns=['PC1', 'PC2', 'PC3'], index=features)\n",
    "print(df_loadings)"
   ]
  },
  {
   "cell_type": "markdown",
   "id": "97b978d1",
   "metadata": {},
   "source": [
    "## KNN "
   ]
  },
  {
   "cell_type": "code",
   "execution_count": 176,
   "id": "2d49f7c5",
   "metadata": {},
   "outputs": [],
   "source": [
    "# 2 PCA\n",
    "pca = PCA(n_components=2)\n",
    "principalComponents = pca.fit_transform(x_pca)\n",
    "principalDf = pd.DataFrame(data = principalComponents, columns = ['PC1', 'PC2'])\n",
    "finalDf = pd.concat([principalDf, y_pca], axis = 1)"
   ]
  },
  {
   "cell_type": "code",
   "execution_count": 177,
   "id": "5d274a0d",
   "metadata": {},
   "outputs": [],
   "source": [
    "from sklearn.model_selection import train_test_split\n",
    "\n",
    "x_knn = finalDf[['PC1', 'PC2']]  \n",
    "y_knn = finalDf[0]  \n",
    "\n",
    "X_train, X_test, y_train, y_test = train_test_split(x_knn, y_knn, test_size = 0.2, random_state = 42)"
   ]
  },
  {
   "cell_type": "code",
   "execution_count": 178,
   "id": "06f5a7c4",
   "metadata": {},
   "outputs": [
    {
     "data": {
      "text/html": [
       "<style>#sk-container-id-1 {color: black;}#sk-container-id-1 pre{padding: 0;}#sk-container-id-1 div.sk-toggleable {background-color: white;}#sk-container-id-1 label.sk-toggleable__label {cursor: pointer;display: block;width: 100%;margin-bottom: 0;padding: 0.3em;box-sizing: border-box;text-align: center;}#sk-container-id-1 label.sk-toggleable__label-arrow:before {content: \"▸\";float: left;margin-right: 0.25em;color: #696969;}#sk-container-id-1 label.sk-toggleable__label-arrow:hover:before {color: black;}#sk-container-id-1 div.sk-estimator:hover label.sk-toggleable__label-arrow:before {color: black;}#sk-container-id-1 div.sk-toggleable__content {max-height: 0;max-width: 0;overflow: hidden;text-align: left;background-color: #f0f8ff;}#sk-container-id-1 div.sk-toggleable__content pre {margin: 0.2em;color: black;border-radius: 0.25em;background-color: #f0f8ff;}#sk-container-id-1 input.sk-toggleable__control:checked~div.sk-toggleable__content {max-height: 200px;max-width: 100%;overflow: auto;}#sk-container-id-1 input.sk-toggleable__control:checked~label.sk-toggleable__label-arrow:before {content: \"▾\";}#sk-container-id-1 div.sk-estimator input.sk-toggleable__control:checked~label.sk-toggleable__label {background-color: #d4ebff;}#sk-container-id-1 div.sk-label input.sk-toggleable__control:checked~label.sk-toggleable__label {background-color: #d4ebff;}#sk-container-id-1 input.sk-hidden--visually {border: 0;clip: rect(1px 1px 1px 1px);clip: rect(1px, 1px, 1px, 1px);height: 1px;margin: -1px;overflow: hidden;padding: 0;position: absolute;width: 1px;}#sk-container-id-1 div.sk-estimator {font-family: monospace;background-color: #f0f8ff;border: 1px dotted black;border-radius: 0.25em;box-sizing: border-box;margin-bottom: 0.5em;}#sk-container-id-1 div.sk-estimator:hover {background-color: #d4ebff;}#sk-container-id-1 div.sk-parallel-item::after {content: \"\";width: 100%;border-bottom: 1px solid gray;flex-grow: 1;}#sk-container-id-1 div.sk-label:hover label.sk-toggleable__label {background-color: #d4ebff;}#sk-container-id-1 div.sk-serial::before {content: \"\";position: absolute;border-left: 1px solid gray;box-sizing: border-box;top: 0;bottom: 0;left: 50%;z-index: 0;}#sk-container-id-1 div.sk-serial {display: flex;flex-direction: column;align-items: center;background-color: white;padding-right: 0.2em;padding-left: 0.2em;position: relative;}#sk-container-id-1 div.sk-item {position: relative;z-index: 1;}#sk-container-id-1 div.sk-parallel {display: flex;align-items: stretch;justify-content: center;background-color: white;position: relative;}#sk-container-id-1 div.sk-item::before, #sk-container-id-1 div.sk-parallel-item::before {content: \"\";position: absolute;border-left: 1px solid gray;box-sizing: border-box;top: 0;bottom: 0;left: 50%;z-index: -1;}#sk-container-id-1 div.sk-parallel-item {display: flex;flex-direction: column;z-index: 1;position: relative;background-color: white;}#sk-container-id-1 div.sk-parallel-item:first-child::after {align-self: flex-end;width: 50%;}#sk-container-id-1 div.sk-parallel-item:last-child::after {align-self: flex-start;width: 50%;}#sk-container-id-1 div.sk-parallel-item:only-child::after {width: 0;}#sk-container-id-1 div.sk-dashed-wrapped {border: 1px dashed gray;margin: 0 0.4em 0.5em 0.4em;box-sizing: border-box;padding-bottom: 0.4em;background-color: white;}#sk-container-id-1 div.sk-label label {font-family: monospace;font-weight: bold;display: inline-block;line-height: 1.2em;}#sk-container-id-1 div.sk-label-container {text-align: center;}#sk-container-id-1 div.sk-container {/* jupyter's `normalize.less` sets `[hidden] { display: none; }` but bootstrap.min.css set `[hidden] { display: none !important; }` so we also need the `!important` here to be able to override the default hidden behavior on the sphinx rendered scikit-learn.org. See: https://github.com/scikit-learn/scikit-learn/issues/21755 */display: inline-block !important;position: relative;}#sk-container-id-1 div.sk-text-repr-fallback {display: none;}</style><div id=\"sk-container-id-1\" class=\"sk-top-container\"><div class=\"sk-text-repr-fallback\"><pre>KNeighborsClassifier()</pre><b>In a Jupyter environment, please rerun this cell to show the HTML representation or trust the notebook. <br />On GitHub, the HTML representation is unable to render, please try loading this page with nbviewer.org.</b></div><div class=\"sk-container\" hidden><div class=\"sk-item\"><div class=\"sk-estimator sk-toggleable\"><input class=\"sk-toggleable__control sk-hidden--visually\" id=\"sk-estimator-id-1\" type=\"checkbox\" checked><label for=\"sk-estimator-id-1\" class=\"sk-toggleable__label sk-toggleable__label-arrow\">KNeighborsClassifier</label><div class=\"sk-toggleable__content\"><pre>KNeighborsClassifier()</pre></div></div></div></div></div>"
      ],
      "text/plain": [
       "KNeighborsClassifier()"
      ]
     },
     "execution_count": 178,
     "metadata": {},
     "output_type": "execute_result"
    }
   ],
   "source": [
    "from sklearn.neighbors import KNeighborsClassifier\n",
    "\n",
    "knn = KNeighborsClassifier(n_neighbors = 5)\n",
    "knn.fit(X_train, y_train)"
   ]
  },
  {
   "cell_type": "code",
   "execution_count": 179,
   "id": "b313df08",
   "metadata": {},
   "outputs": [
    {
     "name": "stdout",
     "output_type": "stream",
     "text": [
      "[[41 25]\n",
      " [16 38]]\n",
      "              precision    recall  f1-score   support\n",
      "\n",
      "           0       0.72      0.62      0.67        66\n",
      "           1       0.60      0.70      0.65        54\n",
      "\n",
      "    accuracy                           0.66       120\n",
      "   macro avg       0.66      0.66      0.66       120\n",
      "weighted avg       0.67      0.66      0.66       120\n",
      "\n",
      "Accuracy: 65.83%\n"
     ]
    }
   ],
   "source": [
    "from sklearn.metrics import classification_report, confusion_matrix, accuracy_score\n",
    "\n",
    "y_pred = knn.predict(X_test)\n",
    "\n",
    "print(confusion_matrix(y_test, y_pred))\n",
    "print(classification_report(y_test, y_pred))\n",
    "print(f\"Accuracy: {accuracy_score(y_test, y_pred) * 100:.2f}%\")\n"
   ]
  },
  {
   "cell_type": "code",
   "execution_count": 180,
   "id": "af11fd1e",
   "metadata": {},
   "outputs": [
    {
     "name": "stdout",
     "output_type": "stream",
     "text": [
      "Tuned KNN Parameters: {'n_neighbors': 16}\n",
      "Best score is 0.71875\n"
     ]
    }
   ],
   "source": [
    "from sklearn.model_selection import GridSearchCV\n",
    "\n",
    "param_grid = {'n_neighbors': np.arange(1, 25)}\n",
    "knn_cv = GridSearchCV(knn, param_grid, cv=5)\n",
    "knn_cv.fit(X_train, y_train)\n",
    "print(\"Tuned KNN Parameters: {}\".format(knn_cv.best_params_)) \n",
    "print(\"Best score is {}\".format(knn_cv.best_score_))\n"
   ]
  },
  {
   "cell_type": "code",
   "execution_count": 219,
   "id": "73391e7a",
   "metadata": {},
   "outputs": [],
   "source": [
    "def predict_cluster(text, label, pca, knn_model, scaler):\n",
    "    x, y = prepare_dataset([text], [label])\n",
    "    x_scaled = scaler.fit_transform(x)\n",
    "    p = pd.DataFrame(data = pca.transform(x_scaled), columns = ['PC1', 'PC2'])\n",
    "    prediction = knn_model.predict(p)\n",
    "    probabilities = knn_model.predict_proba(p)\n",
    "\n",
    "    #confidence = np.max(probabilities) * 100  \n",
    "    \n",
    "    return prediction, probabilities "
   ]
  },
  {
   "cell_type": "code",
   "execution_count": 221,
   "id": "dc9eb78c",
   "metadata": {},
   "outputs": [
    {
     "name": "stderr",
     "output_type": "stream",
     "text": [
      "100%|███████████████████████████████████████████████████████████████████████████| 1/1 [00:00<00:00,  5.74it/s]"
     ]
    },
    {
     "name": "stdout",
     "output_type": "stream",
     "text": [
      "1\n",
      "[0]\n",
      "[[0.5 0.5]]\n"
     ]
    },
    {
     "name": "stderr",
     "output_type": "stream",
     "text": [
      "\n"
     ]
    }
   ],
   "source": [
    "#human written\n",
    "txt = 'Humans should not use mobile phone while driving as it can lead to potential accident as the driver might get distracted and not focus on the road'\n",
    "scaler = StandardScaler()\n",
    "\n",
    "prediction, prob = predict_cluster(text, 1, pca, knn_cv, scaler)\n",
    "print(1)\n",
    "print(prediction)\n",
    "print(prob)"
   ]
  },
  {
   "cell_type": "code",
   "execution_count": 224,
   "id": "c4a80927",
   "metadata": {},
   "outputs": [
    {
     "name": "stderr",
     "output_type": "stream",
     "text": [
      "100%|███████████████████████████████████████████████████████████████████████████| 1/1 [00:00<00:00,  5.93it/s]"
     ]
    },
    {
     "name": "stdout",
     "output_type": "stream",
     "text": [
      "0\n",
      "[0]\n",
      "[[0.5 0.5]]\n"
     ]
    },
    {
     "name": "stderr",
     "output_type": "stream",
     "text": [
      "\n"
     ]
    }
   ],
   "source": [
    "#ai written\n",
    "txt = \"Cell phones have become a necessity in today's fast-paced world. However, their use while driving has become a topic of debate due to the numerous accidents caused by distracted driving. While some argue that drivers should be allowed to use cell phones in certain capacities, others believe that their use while driving should be completely prohibited. In my opinion, drivers should not be able to use cell phones in any capacity while operating a vehicle. Firstly, using a cell phone while driving is a significant distraction that can lead to accidents. According to the National Highway Traffic Safety Administration, distracted driving claimed 3,142 lives in 2019. Cell phone use while driving is a form of distracted driving that takes the driver's attention away from the road, increasing the risk of accidents. Secondly, using a cell phone while driving impairs the driver's ability to react to changing road conditions. Studies have shown that drivers who use cell phones while driving have slower reaction times, making it difficult for them to avoid accidents. Moreover, using a cell phone while driving can also lead to tunnel vision, where the driver's peripheral vision is compromised, making it difficult to see other vehicles, pedestrians, or obstacles on the road. Thirdly, using a hands-free device while driving is not a safe alternative. While some argue that hands-free devices are safer than hand\"\n",
    "scaler = StandardScaler()\n",
    "\n",
    "prediction, prob = predict_cluster(text, 0, pca, knn_cv, scaler)\n",
    "print(0)\n",
    "print(prediction)\n",
    "print(prob)"
   ]
  },
  {
   "cell_type": "code",
   "execution_count": 236,
   "id": "2566297b",
   "metadata": {},
   "outputs": [
    {
     "name": "stderr",
     "output_type": "stream",
     "text": [
      "100%|█████████████████████████████████████████████████████████████████████████| 60/60 [00:03<00:00, 17.02it/s]\n"
     ]
    }
   ],
   "source": [
    "# 30 sample\n",
    "text = df['Text']\n",
    "label = df['LABEL']\n",
    "x_test, y_test = prepare_dataset(text, label)\n",
    "principalComponents = pca.fit_transform(x_test)\n",
    "principalDf = pd.DataFrame(data = principalComponents, columns = ['PC1', 'PC2'])\n",
    "prediction = knn_cv.predict(principalDf)\n"
   ]
  },
  {
   "cell_type": "code",
   "execution_count": 237,
   "id": "4353f984",
   "metadata": {},
   "outputs": [
    {
     "data": {
      "text/plain": [
       "array([0, 0, 0, 0, 1, 1, 1, 0, 1, 1, 0, 0, 0, 0, 0, 0, 1, 1, 1, 1, 0, 1,\n",
       "       0, 0, 0, 0, 0, 0, 1, 1, 0, 0, 1, 1, 0, 0, 0, 0, 0, 0, 0, 1, 0, 0,\n",
       "       0, 1, 1, 0, 0, 0, 0, 1, 1, 1, 1, 0, 0, 0, 0, 0])"
      ]
     },
     "execution_count": 237,
     "metadata": {},
     "output_type": "execute_result"
    }
   ],
   "source": [
    "prediction"
   ]
  },
  {
   "cell_type": "code",
   "execution_count": 238,
   "id": "3a6a5808",
   "metadata": {},
   "outputs": [
    {
     "data": {
      "text/plain": [
       "array([1, 0, 0, 0, 1, 1, 1, 0, 1, 0, 0, 0, 1, 0, 0, 1, 0, 1, 1, 0, 1, 1,\n",
       "       0, 0, 1, 1, 1, 0, 1, 1, 1, 0, 0, 1, 0, 1, 0, 0, 0, 1, 1, 0, 1, 1,\n",
       "       1, 0, 0, 0, 1, 0, 0, 1, 1, 0, 0, 0, 0, 1, 1, 1])"
      ]
     },
     "execution_count": 238,
     "metadata": {},
     "output_type": "execute_result"
    }
   ],
   "source": [
    "y_test"
   ]
  },
  {
   "cell_type": "code",
   "execution_count": 239,
   "id": "6f9280d3",
   "metadata": {},
   "outputs": [
    {
     "data": {
      "text/plain": [
       "12"
      ]
     },
     "execution_count": 239,
     "metadata": {},
     "output_type": "execute_result"
    }
   ],
   "source": [
    "np.sum(prediction[prediction == y_test])"
   ]
  },
  {
   "cell_type": "code",
   "execution_count": null,
   "id": "423bff7e",
   "metadata": {},
   "outputs": [],
   "source": []
  }
 ],
 "metadata": {
  "kernelspec": {
   "display_name": "Python 3 (ipykernel)",
   "language": "python",
   "name": "python3"
  },
  "language_info": {
   "codemirror_mode": {
    "name": "ipython",
    "version": 3
   },
   "file_extension": ".py",
   "mimetype": "text/x-python",
   "name": "python",
   "nbconvert_exporter": "python",
   "pygments_lexer": "ipython3",
   "version": "3.8.18"
  }
 },
 "nbformat": 4,
 "nbformat_minor": 5
}

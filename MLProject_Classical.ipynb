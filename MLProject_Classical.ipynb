{
 "cells": [
  {
   "cell_type": "code",
   "execution_count": 1,
   "id": "b9b52e8b",
   "metadata": {},
   "outputs": [],
   "source": [
    "import pandas as pd\n",
    "import numpy as np\n",
    "from sklearn.feature_extraction.text import CountVectorizer, TfidfVectorizer\n",
    "from sklearn.model_selection import train_test_split\n",
    "from sklearn.naive_bayes import MultinomialNB\n",
    "from sklearn.pipeline import make_pipeline\n",
    "from sklearn.metrics import accuracy_score"
   ]
  },
  {
   "cell_type": "code",
   "execution_count": 2,
   "id": "caab2ce1",
   "metadata": {},
   "outputs": [],
   "source": [
    "def train_and_evaluate(texts, labels, representation_methods):\n",
    "    X_train, X_test, y_train, y_test = train_test_split(texts, labels, test_size=0.2, random_state=42)\n",
    "    \n",
    "    for name, vectorizer in representation_methods.items():\n",
    "        model = make_pipeline(vectorizer, MultinomialNB())\n",
    "        model.fit(X_train, y_train)\n",
    "        y_pred = model.predict(X_test)\n",
    "        accuracy = accuracy_score(y_test, y_pred)\n",
    "        print(f\"{name} Accuracy: {accuracy:.4f}\")\n",
    "        \n",
    "    return model"
   ]
  },
  {
   "cell_type": "code",
   "execution_count": 3,
   "id": "f2ba2f87",
   "metadata": {},
   "outputs": [],
   "source": [
    "def predict_text(model, text):\n",
    "    prediction = model.predict([text])[0]\n",
    "    prediction_prob = model.predict_proba([text])[0]\n",
    "    confidence = prediction_prob[prediction]\n",
    "    status = \"AI-written\" if prediction == 0 else \"Human-written\"\n",
    "    print(f\"Prediction: {status}, Confidence: {confidence:.4f}\")"
   ]
  },
  {
   "cell_type": "code",
   "execution_count": 4,
   "id": "f5e51133",
   "metadata": {},
   "outputs": [],
   "source": [
    "#training\n",
    "mistral_df = pd.read_csv(\"mistral_data.csv\")\n",
    "texts = mistral_df['Text']\n",
    "labels = mistral_df['LABEL']"
   ]
  },
  {
   "cell_type": "code",
   "execution_count": 5,
   "id": "e9aed33b",
   "metadata": {},
   "outputs": [
    {
     "name": "stdout",
     "output_type": "stream",
     "text": [
      "Bag of Words Accuracy: 0.9833\n"
     ]
    }
   ],
   "source": [
    "representation_methods = {'Bag of Words': CountVectorizer()}\n",
    "bow_model = train_and_evaluate(texts, labels, representation_methods)"
   ]
  },
  {
   "cell_type": "code",
   "execution_count": 6,
   "id": "1c3caf2a",
   "metadata": {},
   "outputs": [
    {
     "name": "stdout",
     "output_type": "stream",
     "text": [
      "TF-IDF Accuracy: 0.9333\n"
     ]
    }
   ],
   "source": [
    "representation_methods = {'TF-IDF': TfidfVectorizer()}\n",
    "tfidf_model = train_and_evaluate(texts, labels, representation_methods)"
   ]
  },
  {
   "cell_type": "code",
   "execution_count": 7,
   "id": "d29580d2",
   "metadata": {},
   "outputs": [
    {
     "name": "stdout",
     "output_type": "stream",
     "text": [
      "N-grams Accuracy: 0.9833\n"
     ]
    }
   ],
   "source": [
    "representation_methods = {'N-grams': CountVectorizer(ngram_range=(1, 2))}\n",
    "ngram_model = train_and_evaluate(texts, labels, representation_methods)"
   ]
  },
  {
   "cell_type": "code",
   "execution_count": 8,
   "id": "23a589b3",
   "metadata": {},
   "outputs": [],
   "source": [
    "#test\n",
    "sample_df = pd.read_csv('Generated_Data.csv')\n",
    "test_texts = sample_df['Text']\n",
    "test_labels = sample_df['LABEL']"
   ]
  },
  {
   "cell_type": "code",
   "execution_count": 9,
   "id": "38d07b75",
   "metadata": {},
   "outputs": [
    {
     "data": {
      "text/plain": [
       "30"
      ]
     },
     "execution_count": 9,
     "metadata": {},
     "output_type": "execute_result"
    }
   ],
   "source": [
    "bow_prediction = bow_model.predict(test_texts)\n",
    "np.sum(bow_prediction[bow_prediction == test_labels])"
   ]
  },
  {
   "cell_type": "code",
   "execution_count": 10,
   "id": "d13dc23a",
   "metadata": {},
   "outputs": [
    {
     "data": {
      "text/plain": [
       "30"
      ]
     },
     "execution_count": 10,
     "metadata": {},
     "output_type": "execute_result"
    }
   ],
   "source": [
    "tfidf_prediction = tfidf_model.predict(test_texts)\n",
    "np.sum(tfidf_prediction[tfidf_prediction == test_labels])"
   ]
  },
  {
   "cell_type": "code",
   "execution_count": 11,
   "id": "0c686c2d",
   "metadata": {},
   "outputs": [
    {
     "data": {
      "text/plain": [
       "30"
      ]
     },
     "execution_count": 11,
     "metadata": {},
     "output_type": "execute_result"
    }
   ],
   "source": [
    "ngram_prediction = ngram_model.predict(test_texts)\n",
    "np.sum(ngram_prediction[ngram_prediction == test_labels])"
   ]
  },
  {
   "cell_type": "markdown",
   "id": "bdef04f5",
   "metadata": {},
   "source": [
    "## SVM"
   ]
  },
  {
   "cell_type": "code",
   "execution_count": 12,
   "id": "6aacb65b",
   "metadata": {},
   "outputs": [],
   "source": [
    "from sklearn.svm import SVC\n",
    "from sklearn.pipeline import Pipeline\n",
    "from sklearn.model_selection import train_test_split\n",
    "from sklearn.metrics import classification_report"
   ]
  },
  {
   "cell_type": "code",
   "execution_count": 13,
   "id": "f35d8e20",
   "metadata": {},
   "outputs": [],
   "source": [
    "def train_svm_model(texts, labels, kernel='rbf'):\n",
    "    model = Pipeline([\n",
    "        ('tfidf', TfidfVectorizer()),\n",
    "        ('svm', SVC(kernel=kernel, probability=True))\n",
    "    ])\n",
    "\n",
    "    X_train, X_test, y_train, y_test = train_test_split(texts, labels, test_size=0.2, random_state=42)\n",
    "\n",
    "    model.fit(X_train, y_train)\n",
    "    predictions = model.predict(X_test)\n",
    "    print(classification_report(y_test, predictions))\n",
    "    \n",
    "    return model"
   ]
  },
  {
   "cell_type": "code",
   "execution_count": 14,
   "id": "b837f962",
   "metadata": {},
   "outputs": [
    {
     "name": "stdout",
     "output_type": "stream",
     "text": [
      "              precision    recall  f1-score   support\n",
      "\n",
      "           0       0.99      1.00      0.99        66\n",
      "           1       1.00      0.98      0.99        54\n",
      "\n",
      "    accuracy                           0.99       120\n",
      "   macro avg       0.99      0.99      0.99       120\n",
      "weighted avg       0.99      0.99      0.99       120\n",
      "\n"
     ]
    }
   ],
   "source": [
    "svm_model = train_svm_model(texts, labels)"
   ]
  },
  {
   "cell_type": "code",
   "execution_count": 15,
   "id": "e4cd5adc",
   "metadata": {},
   "outputs": [
    {
     "data": {
      "text/plain": [
       "30"
      ]
     },
     "execution_count": 15,
     "metadata": {},
     "output_type": "execute_result"
    }
   ],
   "source": [
    "svm_prediction = svm_model.predict(test_texts)\n",
    "np.sum(svm_prediction[svm_prediction == test_labels])"
   ]
  },
  {
   "cell_type": "markdown",
   "id": "ef31e73c",
   "metadata": {},
   "source": [
    "## Random Forest"
   ]
  },
  {
   "cell_type": "code",
   "execution_count": 16,
   "id": "3a7d0552",
   "metadata": {},
   "outputs": [],
   "source": [
    "import spacy\n",
    "import nltk\n",
    "from textblob import TextBlob\n",
    "from sklearn.ensemble import RandomForestClassifier\n",
    "from tqdm import tqdm "
   ]
  },
  {
   "cell_type": "code",
   "execution_count": 17,
   "id": "eddfc2ba",
   "metadata": {},
   "outputs": [],
   "source": [
    "nlp = spacy.load(\"en_core_web_sm\")\n",
    "\n",
    "def extract_features(doc):\n",
    "    spacy_doc = nlp(doc)\n",
    "    blob = TextBlob(doc)\n",
    "\n",
    "    avg_sent_len = np.mean([len(sent) for sent in spacy_doc.sents])\n",
    "    sentiment_polarity = blob.sentiment.polarity\n",
    "    sentiment_subjectivity = blob.sentiment.subjectivity\n",
    "    lexical_diversity = len(set([token.text for token in spacy_doc])) / len(spacy_doc)\n",
    "    noun_phrases_count = len(blob.noun_phrases)\n",
    "\n",
    "    return pd.Series({\n",
    "        'avg_sent_len': avg_sent_len,\n",
    "        'sentiment_polarity': sentiment_polarity,\n",
    "        'sentiment_subjectivity': sentiment_subjectivity,\n",
    "        'lexical_diversity': lexical_diversity,\n",
    "        'noun_phrases_count': noun_phrases_count\n",
    "    })\n",
    "\n",
    "def prepare_dataset(texts, labels):\n",
    "    features_list = []  \n",
    "\n",
    "    for text in tqdm(texts):\n",
    "        features = extract_features(str(text))\n",
    "        features_list.append(features)\n",
    "\n",
    "    feature_df = pd.DataFrame(features_list)\n",
    "\n",
    "    return feature_df, np.array(labels)"
   ]
  },
  {
   "cell_type": "code",
   "execution_count": 18,
   "id": "ac6d45e5",
   "metadata": {},
   "outputs": [
    {
     "name": "stderr",
     "output_type": "stream",
     "text": [
      "100%|███████████████████████████████████████████████████████████████████████| 600/600 [00:36<00:00, 16.65it/s]\n"
     ]
    }
   ],
   "source": [
    "x, y = prepare_dataset(texts, labels)"
   ]
  },
  {
   "cell_type": "code",
   "execution_count": 19,
   "id": "71d3d9e2",
   "metadata": {},
   "outputs": [
    {
     "name": "stdout",
     "output_type": "stream",
     "text": [
      "              precision    recall  f1-score   support\n",
      "\n",
      "           0       0.88      0.70      0.78        66\n",
      "           1       0.71      0.89      0.79        54\n",
      "\n",
      "    accuracy                           0.78       120\n",
      "   macro avg       0.80      0.79      0.78       120\n",
      "weighted avg       0.80      0.78      0.78       120\n",
      "\n"
     ]
    }
   ],
   "source": [
    "X_train, X_test, y_train, y_test = train_test_split(x, y, test_size=0.2, random_state=42)\n",
    "\n",
    "rf_model = RandomForestClassifier(n_estimators=100, random_state=42)\n",
    "rf_model.fit(X_train, y_train)\n",
    "\n",
    "y_pred = rf_model.predict(X_test)\n",
    "print(classification_report(y_test, y_pred))"
   ]
  },
  {
   "cell_type": "code",
   "execution_count": 20,
   "id": "9deacaf4",
   "metadata": {},
   "outputs": [
    {
     "name": "stderr",
     "output_type": "stream",
     "text": [
      "100%|█████████████████████████████████████████████████████████████████████████| 60/60 [00:03<00:00, 17.24it/s]\n"
     ]
    },
    {
     "data": {
      "text/plain": [
       "29"
      ]
     },
     "execution_count": 20,
     "metadata": {},
     "output_type": "execute_result"
    }
   ],
   "source": [
    "x_test, y_test = prepare_dataset(test_texts, test_labels)\n",
    "rf_prediction = rf_model.predict(x_test)\n",
    "np.sum(rf_prediction[rf_prediction == y_test])"
   ]
  },
  {
   "cell_type": "markdown",
   "id": "64fe18e8",
   "metadata": {},
   "source": [
    "## PCA"
   ]
  },
  {
   "cell_type": "code",
   "execution_count": 21,
   "id": "30e5afc6",
   "metadata": {},
   "outputs": [],
   "source": [
    "from sklearn.decomposition import PCA\n",
    "from sklearn.preprocessing import StandardScaler\n",
    "import matplotlib.pyplot as plt"
   ]
  },
  {
   "cell_type": "code",
   "execution_count": 22,
   "id": "60ea44ef",
   "metadata": {},
   "outputs": [],
   "source": [
    "features = ['avg_sent_len', 'sentiment_polarity', 'sentiment_subjectivity', 'lexical_diversity', 'noun_phrases_count']\n",
    "x_pca = x.loc[:, features].values\n",
    "x_pca = StandardScaler().fit_transform(x_pca)\n",
    "y_pca = pd.Series(y)"
   ]
  },
  {
   "cell_type": "code",
   "execution_count": 23,
   "id": "68d6d2af",
   "metadata": {},
   "outputs": [],
   "source": [
    "pca = PCA(n_components=2)\n",
    "principalComponents = pca.fit_transform(x_pca)\n",
    "principalDf = pd.DataFrame(data = principalComponents, columns = ['PC1', 'PC2'])\n",
    "finalDf = pd.concat([principalDf, y_pca], axis = 1)"
   ]
  },
  {
   "cell_type": "code",
   "execution_count": 24,
   "id": "27159997",
   "metadata": {},
   "outputs": [
    {
     "data": {
      "text/html": [
       "<style>#sk-container-id-1 {color: black;}#sk-container-id-1 pre{padding: 0;}#sk-container-id-1 div.sk-toggleable {background-color: white;}#sk-container-id-1 label.sk-toggleable__label {cursor: pointer;display: block;width: 100%;margin-bottom: 0;padding: 0.3em;box-sizing: border-box;text-align: center;}#sk-container-id-1 label.sk-toggleable__label-arrow:before {content: \"▸\";float: left;margin-right: 0.25em;color: #696969;}#sk-container-id-1 label.sk-toggleable__label-arrow:hover:before {color: black;}#sk-container-id-1 div.sk-estimator:hover label.sk-toggleable__label-arrow:before {color: black;}#sk-container-id-1 div.sk-toggleable__content {max-height: 0;max-width: 0;overflow: hidden;text-align: left;background-color: #f0f8ff;}#sk-container-id-1 div.sk-toggleable__content pre {margin: 0.2em;color: black;border-radius: 0.25em;background-color: #f0f8ff;}#sk-container-id-1 input.sk-toggleable__control:checked~div.sk-toggleable__content {max-height: 200px;max-width: 100%;overflow: auto;}#sk-container-id-1 input.sk-toggleable__control:checked~label.sk-toggleable__label-arrow:before {content: \"▾\";}#sk-container-id-1 div.sk-estimator input.sk-toggleable__control:checked~label.sk-toggleable__label {background-color: #d4ebff;}#sk-container-id-1 div.sk-label input.sk-toggleable__control:checked~label.sk-toggleable__label {background-color: #d4ebff;}#sk-container-id-1 input.sk-hidden--visually {border: 0;clip: rect(1px 1px 1px 1px);clip: rect(1px, 1px, 1px, 1px);height: 1px;margin: -1px;overflow: hidden;padding: 0;position: absolute;width: 1px;}#sk-container-id-1 div.sk-estimator {font-family: monospace;background-color: #f0f8ff;border: 1px dotted black;border-radius: 0.25em;box-sizing: border-box;margin-bottom: 0.5em;}#sk-container-id-1 div.sk-estimator:hover {background-color: #d4ebff;}#sk-container-id-1 div.sk-parallel-item::after {content: \"\";width: 100%;border-bottom: 1px solid gray;flex-grow: 1;}#sk-container-id-1 div.sk-label:hover label.sk-toggleable__label {background-color: #d4ebff;}#sk-container-id-1 div.sk-serial::before {content: \"\";position: absolute;border-left: 1px solid gray;box-sizing: border-box;top: 0;bottom: 0;left: 50%;z-index: 0;}#sk-container-id-1 div.sk-serial {display: flex;flex-direction: column;align-items: center;background-color: white;padding-right: 0.2em;padding-left: 0.2em;position: relative;}#sk-container-id-1 div.sk-item {position: relative;z-index: 1;}#sk-container-id-1 div.sk-parallel {display: flex;align-items: stretch;justify-content: center;background-color: white;position: relative;}#sk-container-id-1 div.sk-item::before, #sk-container-id-1 div.sk-parallel-item::before {content: \"\";position: absolute;border-left: 1px solid gray;box-sizing: border-box;top: 0;bottom: 0;left: 50%;z-index: -1;}#sk-container-id-1 div.sk-parallel-item {display: flex;flex-direction: column;z-index: 1;position: relative;background-color: white;}#sk-container-id-1 div.sk-parallel-item:first-child::after {align-self: flex-end;width: 50%;}#sk-container-id-1 div.sk-parallel-item:last-child::after {align-self: flex-start;width: 50%;}#sk-container-id-1 div.sk-parallel-item:only-child::after {width: 0;}#sk-container-id-1 div.sk-dashed-wrapped {border: 1px dashed gray;margin: 0 0.4em 0.5em 0.4em;box-sizing: border-box;padding-bottom: 0.4em;background-color: white;}#sk-container-id-1 div.sk-label label {font-family: monospace;font-weight: bold;display: inline-block;line-height: 1.2em;}#sk-container-id-1 div.sk-label-container {text-align: center;}#sk-container-id-1 div.sk-container {/* jupyter's `normalize.less` sets `[hidden] { display: none; }` but bootstrap.min.css set `[hidden] { display: none !important; }` so we also need the `!important` here to be able to override the default hidden behavior on the sphinx rendered scikit-learn.org. See: https://github.com/scikit-learn/scikit-learn/issues/21755 */display: inline-block !important;position: relative;}#sk-container-id-1 div.sk-text-repr-fallback {display: none;}</style><div id=\"sk-container-id-1\" class=\"sk-top-container\"><div class=\"sk-text-repr-fallback\"><pre>KNeighborsClassifier(n_neighbors=16)</pre><b>In a Jupyter environment, please rerun this cell to show the HTML representation or trust the notebook. <br />On GitHub, the HTML representation is unable to render, please try loading this page with nbviewer.org.</b></div><div class=\"sk-container\" hidden><div class=\"sk-item\"><div class=\"sk-estimator sk-toggleable\"><input class=\"sk-toggleable__control sk-hidden--visually\" id=\"sk-estimator-id-1\" type=\"checkbox\" checked><label for=\"sk-estimator-id-1\" class=\"sk-toggleable__label sk-toggleable__label-arrow\">KNeighborsClassifier</label><div class=\"sk-toggleable__content\"><pre>KNeighborsClassifier(n_neighbors=16)</pre></div></div></div></div></div>"
      ],
      "text/plain": [
       "KNeighborsClassifier(n_neighbors=16)"
      ]
     },
     "execution_count": 24,
     "metadata": {},
     "output_type": "execute_result"
    }
   ],
   "source": [
    "from sklearn.neighbors import KNeighborsClassifier\n",
    "\n",
    "x_knn = finalDf[['PC1', 'PC2']]  \n",
    "y_knn = finalDf[0]  \n",
    "X_train, X_test, y_train, y_test = train_test_split(x_knn, y_knn, test_size = 0.2, random_state = 42)\n",
    "\n",
    "knn = KNeighborsClassifier(n_neighbors = 16)\n",
    "knn.fit(X_train, y_train)"
   ]
  },
  {
   "cell_type": "code",
   "execution_count": 25,
   "id": "b0e38b51",
   "metadata": {},
   "outputs": [
    {
     "name": "stdout",
     "output_type": "stream",
     "text": [
      "[[44 22]\n",
      " [20 34]]\n",
      "              precision    recall  f1-score   support\n",
      "\n",
      "           0       0.69      0.67      0.68        66\n",
      "           1       0.61      0.63      0.62        54\n",
      "\n",
      "    accuracy                           0.65       120\n",
      "   macro avg       0.65      0.65      0.65       120\n",
      "weighted avg       0.65      0.65      0.65       120\n",
      "\n",
      "Accuracy: 65.00%\n"
     ]
    }
   ],
   "source": [
    "from sklearn.metrics import classification_report, confusion_matrix, accuracy_score\n",
    "\n",
    "y_pred = knn.predict(X_test)\n",
    "\n",
    "print(confusion_matrix(y_test, y_pred))\n",
    "print(classification_report(y_test, y_pred))\n",
    "print(f\"Accuracy: {accuracy_score(y_test, y_pred) * 100:.2f}%\")"
   ]
  },
  {
   "cell_type": "code",
   "execution_count": 26,
   "id": "11011ebd",
   "metadata": {},
   "outputs": [],
   "source": [
    "def predict_cluster(text, label, pca, knn_model, scaler):\n",
    "    x, y = prepare_dataset([text], [label])\n",
    "    x_scaled = scaler.fit_transform(x)\n",
    "    p = pd.DataFrame(data = pca.transform(x_scaled), columns = ['PC1', 'PC2'])\n",
    "    prediction = knn_model.predict(p)\n",
    "    probabilities = knn_model.predict_proba(p)\n",
    "\n",
    "    #confidence = np.max(probabilities) * 100  \n",
    "    \n",
    "    return prediction, probabilities "
   ]
  },
  {
   "cell_type": "code",
   "execution_count": 27,
   "id": "bd1c185c",
   "metadata": {},
   "outputs": [
    {
     "name": "stderr",
     "output_type": "stream",
     "text": [
      "100%|█████████████████████████████████████████████████████████████████████████| 60/60 [00:03<00:00, 17.32it/s]\n"
     ]
    }
   ],
   "source": [
    "x_test, y_test = prepare_dataset(test_texts, test_labels)\n",
    "principalComponents = pca.fit_transform(x_test)\n",
    "principalDf = pd.DataFrame(data = principalComponents, columns = ['PC1', 'PC2'])\n",
    "prediction = knn.predict(principalDf)"
   ]
  },
  {
   "cell_type": "code",
   "execution_count": 28,
   "id": "edfb18ef",
   "metadata": {},
   "outputs": [
    {
     "data": {
      "text/plain": [
       "12"
      ]
     },
     "execution_count": 28,
     "metadata": {},
     "output_type": "execute_result"
    }
   ],
   "source": [
    "np.sum(prediction[prediction == y_test])"
   ]
  },
  {
   "cell_type": "markdown",
   "id": "9a6eb3a3",
   "metadata": {},
   "source": [
    "## Different human text"
   ]
  },
  {
   "cell_type": "code",
   "execution_count": 29,
   "id": "a2d5e957",
   "metadata": {},
   "outputs": [],
   "source": [
    "import re\n",
    "\n",
    "def clean_text(text):\n",
    "    return re.sub(r'\\n+', ' ', text)"
   ]
  },
  {
   "cell_type": "code",
   "execution_count": 31,
   "id": "e5f7359c",
   "metadata": {},
   "outputs": [],
   "source": [
    "persuade_df = pd.read_csv(\"persuade.csv\")\n",
    "filtered_df = persuade_df['full_text'].iloc[700:800]\n",
    "filtered_df = filtered_df.apply(clean_text)\n",
    "filtered_df_label = np.ones(shape = [100])"
   ]
  },
  {
   "cell_type": "code",
   "execution_count": 32,
   "id": "e609b406",
   "metadata": {},
   "outputs": [
    {
     "data": {
      "text/plain": [
       "700    In today's modern society almost every person ...\n",
       "701    Today we as humans live in a society that is c...\n",
       "702    Texting and driving has become a huge problem ...\n",
       "703    Proper Driver Cellphone Usage The question of ...\n",
       "704    Responsible Drivers The share of American adul...\n",
       "                             ...                        \n",
       "795    I think while driving you should not be able t...\n",
       "796    Phones and driving Everyday people die in car ...\n",
       "797    Texting & driving Should drivers be able to us...\n",
       "798    Phones and Driving Cell phones have become ver...\n",
       "799    Distracted Driving Distracted driving has beco...\n",
       "Name: full_text, Length: 100, dtype: object"
      ]
     },
     "execution_count": 32,
     "metadata": {},
     "output_type": "execute_result"
    }
   ],
   "source": [
    "filtered_df"
   ]
  },
  {
   "cell_type": "code",
   "execution_count": 33,
   "id": "b0763712",
   "metadata": {},
   "outputs": [
    {
     "data": {
      "text/plain": [
       "97"
      ]
     },
     "execution_count": 33,
     "metadata": {},
     "output_type": "execute_result"
    }
   ],
   "source": [
    "bow_prediction = bow_model.predict(filtered_df)\n",
    "np.sum(bow_prediction[bow_prediction == filtered_df_label])"
   ]
  },
  {
   "cell_type": "code",
   "execution_count": 34,
   "id": "595b4579",
   "metadata": {},
   "outputs": [
    {
     "data": {
      "text/plain": [
       "99"
      ]
     },
     "execution_count": 34,
     "metadata": {},
     "output_type": "execute_result"
    }
   ],
   "source": [
    "tfidf_prediction = tfidf_model.predict(filtered_df)\n",
    "np.sum(tfidf_prediction[tfidf_prediction == filtered_df_label])"
   ]
  },
  {
   "cell_type": "code",
   "execution_count": 35,
   "id": "9b3d704f",
   "metadata": {},
   "outputs": [
    {
     "data": {
      "text/plain": [
       "99"
      ]
     },
     "execution_count": 35,
     "metadata": {},
     "output_type": "execute_result"
    }
   ],
   "source": [
    "ngram_prediction = ngram_model.predict(filtered_df)\n",
    "np.sum(ngram_prediction[ngram_prediction == filtered_df_label])"
   ]
  },
  {
   "cell_type": "code",
   "execution_count": 36,
   "id": "5b7352a1",
   "metadata": {},
   "outputs": [
    {
     "data": {
      "text/plain": [
       "91"
      ]
     },
     "execution_count": 36,
     "metadata": {},
     "output_type": "execute_result"
    }
   ],
   "source": [
    "svm_prediction = svm_model.predict(filtered_df)\n",
    "np.sum(svm_prediction[svm_prediction == filtered_df_label])"
   ]
  },
  {
   "cell_type": "code",
   "execution_count": 37,
   "id": "bf3c8d1f",
   "metadata": {},
   "outputs": [
    {
     "name": "stderr",
     "output_type": "stream",
     "text": [
      "100%|███████████████████████████████████████████████████████████████████████| 100/100 [00:08<00:00, 12.30it/s]\n"
     ]
    },
    {
     "data": {
      "text/plain": [
       "80"
      ]
     },
     "execution_count": 37,
     "metadata": {},
     "output_type": "execute_result"
    }
   ],
   "source": [
    "x_test, y_test = prepare_dataset(filtered_df, filtered_df_label)\n",
    "rf_prediction = rf_model.predict(x_test)\n",
    "np.sum(rf_prediction[rf_prediction == y_test])"
   ]
  },
  {
   "cell_type": "code",
   "execution_count": 38,
   "id": "df33b5a3",
   "metadata": {},
   "outputs": [
    {
     "name": "stderr",
     "output_type": "stream",
     "text": [
      "100%|███████████████████████████████████████████████████████████████████████| 100/100 [00:07<00:00, 12.51it/s]\n"
     ]
    },
    {
     "data": {
      "text/plain": [
       "36"
      ]
     },
     "execution_count": 38,
     "metadata": {},
     "output_type": "execute_result"
    }
   ],
   "source": [
    "x_test, y_test = prepare_dataset(filtered_df, filtered_df_label)\n",
    "principalComponents = pca.fit_transform(x_test)\n",
    "principalDf = pd.DataFrame(data = principalComponents, columns = ['PC1', 'PC2'])\n",
    "prediction = knn.predict(principalDf)\n",
    "np.sum(prediction[prediction == y_test])"
   ]
  },
  {
   "cell_type": "markdown",
   "id": "2c58250e",
   "metadata": {},
   "source": [
    "## ChatGPT"
   ]
  },
  {
   "cell_type": "code",
   "execution_count": 40,
   "id": "bb810671",
   "metadata": {},
   "outputs": [],
   "source": [
    "gpt_df = pd.read_csv(\"chat_essay.csv\")\n",
    "gpt_df = gpt_df.sample(frac = 1)\n",
    "gpt_df = gpt_df['Text'].iloc[0:100]\n",
    "gpt_df = gpt_df.apply(clean_text)\n",
    "gpt_df_label = np.zeros(shape = [100], dtype = int)"
   ]
  },
  {
   "cell_type": "code",
   "execution_count": 41,
   "id": "5570caa2",
   "metadata": {},
   "outputs": [
    {
     "data": {
      "text/plain": [
       "290     I believe that summer projects for students sh...\n",
       "1487    Seeking multiple opinions can help someone mak...\n",
       "197     Limiting car usage can provide numerous benefi...\n",
       "1497    Seeking multiple opinions can help someone mak...\n",
       "1247    Dear Principal, I am writing to express my opi...\n",
       "                              ...                        \n",
       "783     Introduction: The Face on Mars has long been a...\n",
       "1142    Dear Senator, I am writing to express my suppo...\n",
       "1053    Introduction: Driverless cars have been a topi...\n",
       "1386    I believe that students would benefit from bei...\n",
       "864     Dear Principal, I am writing to express my sup...\n",
       "Name: Text, Length: 100, dtype: object"
      ]
     },
     "execution_count": 41,
     "metadata": {},
     "output_type": "execute_result"
    }
   ],
   "source": [
    "gpt_df"
   ]
  },
  {
   "cell_type": "code",
   "execution_count": 42,
   "id": "35a949ca",
   "metadata": {},
   "outputs": [
    {
     "data": {
      "text/plain": [
       "100"
      ]
     },
     "execution_count": 42,
     "metadata": {},
     "output_type": "execute_result"
    }
   ],
   "source": [
    "bow_prediction = bow_model.predict(gpt_df)\n",
    "np.sum(bow_prediction == gpt_df_label)"
   ]
  },
  {
   "cell_type": "code",
   "execution_count": 43,
   "id": "f3c3a559",
   "metadata": {},
   "outputs": [
    {
     "data": {
      "text/plain": [
       "100"
      ]
     },
     "execution_count": 43,
     "metadata": {},
     "output_type": "execute_result"
    }
   ],
   "source": [
    "tfidf_prediction = tfidf_model.predict(gpt_df)\n",
    "np.sum(tfidf_prediction == gpt_df_label)"
   ]
  },
  {
   "cell_type": "code",
   "execution_count": 44,
   "id": "98b21c8a",
   "metadata": {},
   "outputs": [
    {
     "data": {
      "text/plain": [
       "100"
      ]
     },
     "execution_count": 44,
     "metadata": {},
     "output_type": "execute_result"
    }
   ],
   "source": [
    "ngram_prediction = ngram_model.predict(gpt_df)\n",
    "np.sum(ngram_prediction == gpt_df_label)"
   ]
  },
  {
   "cell_type": "code",
   "execution_count": 45,
   "id": "9fccbbf3",
   "metadata": {},
   "outputs": [
    {
     "data": {
      "text/plain": [
       "100"
      ]
     },
     "execution_count": 45,
     "metadata": {},
     "output_type": "execute_result"
    }
   ],
   "source": [
    "svm_prediction = svm_model.predict(gpt_df)\n",
    "np.sum(svm_prediction == gpt_df_label)"
   ]
  },
  {
   "cell_type": "code",
   "execution_count": 46,
   "id": "5fc7301c",
   "metadata": {},
   "outputs": [
    {
     "name": "stderr",
     "output_type": "stream",
     "text": [
      "100%|███████████████████████████████████████████████████████████████████████| 100/100 [00:03<00:00, 25.27it/s]\n"
     ]
    },
    {
     "data": {
      "text/plain": [
       "86"
      ]
     },
     "execution_count": 46,
     "metadata": {},
     "output_type": "execute_result"
    }
   ],
   "source": [
    "x_test, y_test = prepare_dataset(gpt_df, gpt_df_label)\n",
    "rf_prediction = rf_model.predict(x_test)\n",
    "np.sum(rf_prediction == gpt_df_label)"
   ]
  },
  {
   "cell_type": "code",
   "execution_count": 47,
   "id": "2176d491",
   "metadata": {},
   "outputs": [
    {
     "name": "stderr",
     "output_type": "stream",
     "text": [
      "100%|███████████████████████████████████████████████████████████████████████| 100/100 [00:03<00:00, 25.50it/s]\n"
     ]
    },
    {
     "data": {
      "text/plain": [
       "60"
      ]
     },
     "execution_count": 47,
     "metadata": {},
     "output_type": "execute_result"
    }
   ],
   "source": [
    "x_test, y_test = prepare_dataset(gpt_df, gpt_df_label)\n",
    "principalComponents = pca.fit_transform(x_test)\n",
    "principalDf = pd.DataFrame(data = principalComponents, columns = ['PC1', 'PC2'])\n",
    "prediction = knn.predict(principalDf)\n",
    "np.sum(prediction == gpt_df_label)"
   ]
  },
  {
   "cell_type": "markdown",
   "id": "a5d8211f",
   "metadata": {},
   "source": [
    "# GPT and Human"
   ]
  },
  {
   "cell_type": "code",
   "execution_count": 48,
   "id": "955d229d",
   "metadata": {},
   "outputs": [],
   "source": [
    "filtered_human = pd.DataFrame()\n",
    "persuade_df = pd.read_csv(\"persuade.csv\")\n",
    "sample_ = persuade_df['full_text'].iloc[700:800]\n",
    "sample_ = sample_.apply(clean_text)\n",
    "filtered_human['TEXT'] = sample_\n",
    "filtered_human['LABEL'] = 1\n",
    "\n",
    "filtered_gpt = pd.DataFrame()\n",
    "gpt_df = pd.read_csv(\"chat_essay.csv\")\n",
    "gpt_df = gpt_df.sample(frac = 1)\n",
    "sample_ = gpt_df['Text'].iloc[0:100]\n",
    "sample_ = sample_.apply(clean_text)\n",
    "filtered_gpt['TEXT'] = sample_\n",
    "filtered_gpt['LABEL'] = 0\n",
    "\n",
    "gpt_human = pd.concat([filtered_human, filtered_gpt], ignore_index=True)\n",
    "gpt_human = gpt_human.sample(frac = 1)"
   ]
  },
  {
   "cell_type": "code",
   "execution_count": 49,
   "id": "cea2ba38",
   "metadata": {},
   "outputs": [
    {
     "data": {
      "text/html": [
       "<div>\n",
       "<style scoped>\n",
       "    .dataframe tbody tr th:only-of-type {\n",
       "        vertical-align: middle;\n",
       "    }\n",
       "\n",
       "    .dataframe tbody tr th {\n",
       "        vertical-align: top;\n",
       "    }\n",
       "\n",
       "    .dataframe thead th {\n",
       "        text-align: right;\n",
       "    }\n",
       "</style>\n",
       "<table border=\"1\" class=\"dataframe\">\n",
       "  <thead>\n",
       "    <tr style=\"text-align: right;\">\n",
       "      <th></th>\n",
       "      <th>TEXT</th>\n",
       "      <th>LABEL</th>\n",
       "    </tr>\n",
       "  </thead>\n",
       "  <tbody>\n",
       "    <tr>\n",
       "      <th>52</th>\n",
       "      <td>Do you text while driving? Do you text while d...</td>\n",
       "      <td>1</td>\n",
       "    </tr>\n",
       "    <tr>\n",
       "      <th>68</th>\n",
       "      <td>Phones &amp; Driving Using cell phones while drivi...</td>\n",
       "      <td>1</td>\n",
       "    </tr>\n",
       "    <tr>\n",
       "      <th>84</th>\n",
       "      <td>Everyday fatalities happen from the use cell p...</td>\n",
       "      <td>1</td>\n",
       "    </tr>\n",
       "    <tr>\n",
       "      <th>140</th>\n",
       "      <td>Introduction: The Face on Mars has long been a...</td>\n",
       "      <td>0</td>\n",
       "    </tr>\n",
       "    <tr>\n",
       "      <th>98</th>\n",
       "      <td>Phones and Driving Cell phones have become ver...</td>\n",
       "      <td>1</td>\n",
       "    </tr>\n",
       "    <tr>\n",
       "      <th>...</th>\n",
       "      <td>...</td>\n",
       "      <td>...</td>\n",
       "    </tr>\n",
       "    <tr>\n",
       "      <th>94</th>\n",
       "      <td>Phones &amp; Driving Essay I feel like drivers sho...</td>\n",
       "      <td>1</td>\n",
       "    </tr>\n",
       "    <tr>\n",
       "      <th>184</th>\n",
       "      <td>The use of the Facial Action Coding System (FA...</td>\n",
       "      <td>0</td>\n",
       "    </tr>\n",
       "    <tr>\n",
       "      <th>59</th>\n",
       "      <td>Should or Shouldn't drivers use devices while ...</td>\n",
       "      <td>1</td>\n",
       "    </tr>\n",
       "    <tr>\n",
       "      <th>23</th>\n",
       "      <td>Everyday people die in car accidents because t...</td>\n",
       "      <td>1</td>\n",
       "    </tr>\n",
       "    <tr>\n",
       "      <th>96</th>\n",
       "      <td>Phones and driving Everyday people die in car ...</td>\n",
       "      <td>1</td>\n",
       "    </tr>\n",
       "  </tbody>\n",
       "</table>\n",
       "<p>200 rows × 2 columns</p>\n",
       "</div>"
      ],
      "text/plain": [
       "                                                  TEXT  LABEL\n",
       "52   Do you text while driving? Do you text while d...      1\n",
       "68   Phones & Driving Using cell phones while drivi...      1\n",
       "84   Everyday fatalities happen from the use cell p...      1\n",
       "140  Introduction: The Face on Mars has long been a...      0\n",
       "98   Phones and Driving Cell phones have become ver...      1\n",
       "..                                                 ...    ...\n",
       "94   Phones & Driving Essay I feel like drivers sho...      1\n",
       "184  The use of the Facial Action Coding System (FA...      0\n",
       "59   Should or Shouldn't drivers use devices while ...      1\n",
       "23   Everyday people die in car accidents because t...      1\n",
       "96   Phones and driving Everyday people die in car ...      1\n",
       "\n",
       "[200 rows x 2 columns]"
      ]
     },
     "execution_count": 49,
     "metadata": {},
     "output_type": "execute_result"
    }
   ],
   "source": [
    "gpt_human"
   ]
  },
  {
   "cell_type": "code",
   "execution_count": 50,
   "id": "0a22a6bc",
   "metadata": {},
   "outputs": [
    {
     "data": {
      "text/plain": [
       "197"
      ]
     },
     "execution_count": 50,
     "metadata": {},
     "output_type": "execute_result"
    }
   ],
   "source": [
    "bow_prediction = bow_model.predict(gpt_human['TEXT'])\n",
    "np.sum(bow_prediction == gpt_human['LABEL'])"
   ]
  },
  {
   "cell_type": "code",
   "execution_count": 51,
   "id": "8c195b15",
   "metadata": {},
   "outputs": [
    {
     "data": {
      "text/plain": [
       "195"
      ]
     },
     "execution_count": 51,
     "metadata": {},
     "output_type": "execute_result"
    }
   ],
   "source": [
    "tfidf_prediction = tfidf_model.predict(gpt_human['TEXT'])\n",
    "np.sum(tfidf_prediction == gpt_human['LABEL'])"
   ]
  },
  {
   "cell_type": "code",
   "execution_count": 52,
   "id": "90e0d7e1",
   "metadata": {},
   "outputs": [
    {
     "data": {
      "text/plain": [
       "199"
      ]
     },
     "execution_count": 52,
     "metadata": {},
     "output_type": "execute_result"
    }
   ],
   "source": [
    "ngram_prediction = ngram_model.predict(gpt_human['TEXT'])\n",
    "np.sum(ngram_prediction == gpt_human['LABEL'])"
   ]
  },
  {
   "cell_type": "markdown",
   "id": "f5805cd9",
   "metadata": {},
   "source": [
    "## Paraphrased by AI"
   ]
  },
  {
   "cell_type": "code",
   "execution_count": 53,
   "id": "89c325b1",
   "metadata": {},
   "outputs": [
    {
     "data": {
      "text/plain": [
       "'Texting and driving has become a huge problem throughout the world teens and adults alike. Most people when think it is no big deal and that they can do it as long as they get caught. They think well I am a good driver I won\\'t crash until it actually happens. First things first, people adults and teens should not under any condition be texting and driving. There is no excuse or any solid reason you should be doing it. We all think it isn\\'t like most people do it. People think its rare and not a big deal. Suprise suprise according to the article,\"Texting and Driving Accident Statistics\" the editor states,\"In fact, at any given time throughout the day, approximately 660,000 drivers are attempting to use their phones while behind the wheel of an automobile\". This is a very startling fact. By the author saying this it means that at any given time 660,000 or more people are putting the lives of the people in the car and those around them in great danger. By the same token, texting and driving takes the lives of many people around the world everyday. You would think with everyone being safe drivers and smart they wouldn\\'t wreck while texting and driving. The fact is according to the article,\"Texting and Driving Accident Statistics\" the author. states,\"The National Safety Council reports that cell phone use while driving leads to 1.6 million crashes each year\". This statement made by the author is showing us how serious texting and driving is. Everytime someone picks up their phone they will possibly become another accident caused by texting and driving. Also in the article it states,\"Texting while driving is 6x more likely to cause an accident than driving drunk\". We all know how serious and dangerous drunk driving is so if texting and driving is more dangerous than that then we have a real problem on our hands. On the other hand there are many ways we are trying to prevent texting and driving. Some cars come with a feature that allows you to receive and answer calls or even texts through your car without touching your phone at all. Some cars come with a ability to not start if it senses that the driver is using a cellular device. But there are many ways you can stop texting and driving without having to buy a new car. In the article,\"Tips for preventing texting while driving\" in this article the author states,\"Put your phone out of reach\" and \"Make a commitment to not use your phone while driving\". These are ways we can stop texting and driving. We need to end this problem once and for all because the longer we allow it the more lives that will be taken. All things considered, we do not need to allow texting and driving bases on the evidence that has been shown here. Texting and driving causes more harm than good. We need to educate our young people and even our adults of the risk they are taking when they are texting and driving. Next time you are about to text and drive ask yourself if texting someone back is more important than somebody\\'s life, it can wait.   '"
      ]
     },
     "execution_count": 53,
     "metadata": {},
     "output_type": "execute_result"
    }
   ],
   "source": [
    "filtered_human['TEXT'].iloc[2]"
   ]
  },
  {
   "cell_type": "code",
   "execution_count": 54,
   "id": "58e7757c",
   "metadata": {},
   "outputs": [],
   "source": [
    "txt = \"Texting while driving has emerged as a significant issue globally, affecting both teenagers and adults alike. Many individuals perceive it as inconsequential and believe they can engage in it without consequences until they are caught. They often hold the misguided belief that their driving skills are sufficient to prevent accidents, until a collision occurs. Firstly, it is imperative that both adults and teens refrain from texting while driving under any circumstances. There is simply no excuse or valid reason to engage in such behavior. Despite common misconceptions that texting while driving is uncommon or harmless, statistics reveal a shocking reality. According to the article 'Texting and Driving Accident Statistics,' approximately 660,000 drivers attempt to use their phones while driving at any given time, posing a grave danger to themselves and others. Furthermore, texting while driving claims numerous lives worldwide on a daily basis. Despite the assumption that responsible and cautious drivers are immune to accidents while texting, the reality is grim. The National Safety Council reports that cell phone use while driving contributes to 1.6 million crashes annually, underscoring the severity of the issue. Alarmingly, texting while driving is six times more likely to cause an accident than driving under the influence of alcohol, highlighting the urgent need to address this problem. Efforts to mitigate texting while driving include technological features in some vehicles, such as hands-free calling and text messaging capabilities, as well as systems that prevent the vehicle from starting if a cell phone is in use. However, there are also simple steps individuals can take to avoid texting while driving, such as keeping the phone out of reach and making a commitment to refrain from using it while behind the wheel. It is imperative to tackle this issue head-on, as allowing it to persist will only result in more lives lost. In conclusion, the evidence presented here clearly indicates the detrimental impact of texting while driving. We must educate both young people and adults about the risks associated with this behavior. Before succumbing to the temptation to text and drive, individuals should consider whether sending a message is worth risking someone's life.\""
   ]
  },
  {
   "cell_type": "code",
   "execution_count": 55,
   "id": "cc097b12",
   "metadata": {},
   "outputs": [
    {
     "data": {
      "text/plain": [
       "array([1])"
      ]
     },
     "execution_count": 55,
     "metadata": {},
     "output_type": "execute_result"
    }
   ],
   "source": [
    "bow_model.predict([filtered_human['TEXT'].iloc[2]])"
   ]
  },
  {
   "cell_type": "code",
   "execution_count": 56,
   "id": "a24eb971",
   "metadata": {},
   "outputs": [
    {
     "data": {
      "text/plain": [
       "array([0])"
      ]
     },
     "execution_count": 56,
     "metadata": {},
     "output_type": "execute_result"
    }
   ],
   "source": [
    "bow_model.predict([txt])"
   ]
  },
  {
   "cell_type": "code",
   "execution_count": 57,
   "id": "e19e970c",
   "metadata": {},
   "outputs": [
    {
     "data": {
      "text/plain": [
       "array([0])"
      ]
     },
     "execution_count": 57,
     "metadata": {},
     "output_type": "execute_result"
    }
   ],
   "source": [
    "tfidf_model.predict([txt])"
   ]
  },
  {
   "cell_type": "code",
   "execution_count": 58,
   "id": "abdcaaf9",
   "metadata": {},
   "outputs": [
    {
     "data": {
      "text/plain": [
       "array([0])"
      ]
     },
     "execution_count": 58,
     "metadata": {},
     "output_type": "execute_result"
    }
   ],
   "source": [
    "ngram_model.predict([txt])"
   ]
  },
  {
   "cell_type": "markdown",
   "id": "15e9d6fd",
   "metadata": {},
   "source": [
    "## Competition"
   ]
  },
  {
   "cell_type": "code",
   "execution_count": 61,
   "id": "2a3059ba",
   "metadata": {},
   "outputs": [],
   "source": [
    "comp_df = pd.read_csv(\"train_essays_comp.csv\")\n",
    "comp_df_human = comp_df.query('generated == 0')"
   ]
  },
  {
   "cell_type": "code",
   "execution_count": 62,
   "id": "114cfd7b",
   "metadata": {},
   "outputs": [
    {
     "name": "stderr",
     "output_type": "stream",
     "text": [
      "/var/folders/f4/4mwvrr4x2dg6l94x0rks7ypr0000gn/T/ipykernel_42350/3252528379.py:1: SettingWithCopyWarning: \n",
      "A value is trying to be set on a copy of a slice from a DataFrame.\n",
      "Try using .loc[row_indexer,col_indexer] = value instead\n",
      "\n",
      "See the caveats in the documentation: https://pandas.pydata.org/pandas-docs/stable/user_guide/indexing.html#returning-a-view-versus-a-copy\n",
      "  comp_df_human['generated'] = 1\n"
     ]
    }
   ],
   "source": [
    "comp_df_human['generated'] = 1"
   ]
  },
  {
   "cell_type": "code",
   "execution_count": 63,
   "id": "0e647dea",
   "metadata": {},
   "outputs": [
    {
     "data": {
      "text/html": [
       "<div>\n",
       "<style scoped>\n",
       "    .dataframe tbody tr th:only-of-type {\n",
       "        vertical-align: middle;\n",
       "    }\n",
       "\n",
       "    .dataframe tbody tr th {\n",
       "        vertical-align: top;\n",
       "    }\n",
       "\n",
       "    .dataframe thead th {\n",
       "        text-align: right;\n",
       "    }\n",
       "</style>\n",
       "<table border=\"1\" class=\"dataframe\">\n",
       "  <thead>\n",
       "    <tr style=\"text-align: right;\">\n",
       "      <th></th>\n",
       "      <th>id</th>\n",
       "      <th>prompt_id</th>\n",
       "      <th>text</th>\n",
       "      <th>generated</th>\n",
       "    </tr>\n",
       "  </thead>\n",
       "  <tbody>\n",
       "    <tr>\n",
       "      <th>0</th>\n",
       "      <td>0059830c</td>\n",
       "      <td>0</td>\n",
       "      <td>Cars. Cars have been around since they became ...</td>\n",
       "      <td>1</td>\n",
       "    </tr>\n",
       "    <tr>\n",
       "      <th>1</th>\n",
       "      <td>005db917</td>\n",
       "      <td>0</td>\n",
       "      <td>Transportation is a large necessity in most co...</td>\n",
       "      <td>1</td>\n",
       "    </tr>\n",
       "    <tr>\n",
       "      <th>2</th>\n",
       "      <td>008f63e3</td>\n",
       "      <td>0</td>\n",
       "      <td>\"America's love affair with it's vehicles seem...</td>\n",
       "      <td>1</td>\n",
       "    </tr>\n",
       "    <tr>\n",
       "      <th>3</th>\n",
       "      <td>00940276</td>\n",
       "      <td>0</td>\n",
       "      <td>How often do you ride in a car? Do you drive a...</td>\n",
       "      <td>1</td>\n",
       "    </tr>\n",
       "    <tr>\n",
       "      <th>4</th>\n",
       "      <td>00c39458</td>\n",
       "      <td>0</td>\n",
       "      <td>Cars are a wonderful thing. They are perhaps o...</td>\n",
       "      <td>1</td>\n",
       "    </tr>\n",
       "    <tr>\n",
       "      <th>...</th>\n",
       "      <td>...</td>\n",
       "      <td>...</td>\n",
       "      <td>...</td>\n",
       "      <td>...</td>\n",
       "    </tr>\n",
       "    <tr>\n",
       "      <th>1373</th>\n",
       "      <td>fe6ff9a5</td>\n",
       "      <td>1</td>\n",
       "      <td>There has been a fuss about the Elector Colleg...</td>\n",
       "      <td>1</td>\n",
       "    </tr>\n",
       "    <tr>\n",
       "      <th>1374</th>\n",
       "      <td>ff669174</td>\n",
       "      <td>0</td>\n",
       "      <td>Limiting car usage has many advantages. Such a...</td>\n",
       "      <td>1</td>\n",
       "    </tr>\n",
       "    <tr>\n",
       "      <th>1375</th>\n",
       "      <td>ffa247e0</td>\n",
       "      <td>0</td>\n",
       "      <td>There's a new trend that has been developing f...</td>\n",
       "      <td>1</td>\n",
       "    </tr>\n",
       "    <tr>\n",
       "      <th>1376</th>\n",
       "      <td>ffc237e9</td>\n",
       "      <td>0</td>\n",
       "      <td>As we all know cars are a big part of our soci...</td>\n",
       "      <td>1</td>\n",
       "    </tr>\n",
       "    <tr>\n",
       "      <th>1377</th>\n",
       "      <td>ffe1ca0d</td>\n",
       "      <td>0</td>\n",
       "      <td>Cars have been around since the 1800's and hav...</td>\n",
       "      <td>1</td>\n",
       "    </tr>\n",
       "  </tbody>\n",
       "</table>\n",
       "<p>1375 rows × 4 columns</p>\n",
       "</div>"
      ],
      "text/plain": [
       "            id  prompt_id                                               text  \\\n",
       "0     0059830c          0  Cars. Cars have been around since they became ...   \n",
       "1     005db917          0  Transportation is a large necessity in most co...   \n",
       "2     008f63e3          0  \"America's love affair with it's vehicles seem...   \n",
       "3     00940276          0  How often do you ride in a car? Do you drive a...   \n",
       "4     00c39458          0  Cars are a wonderful thing. They are perhaps o...   \n",
       "...        ...        ...                                                ...   \n",
       "1373  fe6ff9a5          1  There has been a fuss about the Elector Colleg...   \n",
       "1374  ff669174          0  Limiting car usage has many advantages. Such a...   \n",
       "1375  ffa247e0          0  There's a new trend that has been developing f...   \n",
       "1376  ffc237e9          0  As we all know cars are a big part of our soci...   \n",
       "1377  ffe1ca0d          0  Cars have been around since the 1800's and hav...   \n",
       "\n",
       "      generated  \n",
       "0             1  \n",
       "1             1  \n",
       "2             1  \n",
       "3             1  \n",
       "4             1  \n",
       "...         ...  \n",
       "1373          1  \n",
       "1374          1  \n",
       "1375          1  \n",
       "1376          1  \n",
       "1377          1  \n",
       "\n",
       "[1375 rows x 4 columns]"
      ]
     },
     "execution_count": 63,
     "metadata": {},
     "output_type": "execute_result"
    }
   ],
   "source": [
    "comp_df_human"
   ]
  },
  {
   "cell_type": "code",
   "execution_count": 64,
   "id": "3c8b1a4d",
   "metadata": {},
   "outputs": [
    {
     "data": {
      "text/plain": [
       "1358"
      ]
     },
     "execution_count": 64,
     "metadata": {},
     "output_type": "execute_result"
    }
   ],
   "source": [
    "bow_prediction = bow_model.predict(comp_df_human['text'])\n",
    "np.sum(bow_prediction == comp_df_human['generated'])"
   ]
  },
  {
   "cell_type": "markdown",
   "id": "4ff469cf",
   "metadata": {},
   "source": [
    "## DGAIT"
   ]
  },
  {
   "cell_type": "code",
   "execution_count": 65,
   "id": "b0c696de",
   "metadata": {},
   "outputs": [
    {
     "data": {
      "text/html": [
       "<div>\n",
       "<style scoped>\n",
       "    .dataframe tbody tr th:only-of-type {\n",
       "        vertical-align: middle;\n",
       "    }\n",
       "\n",
       "    .dataframe tbody tr th {\n",
       "        vertical-align: top;\n",
       "    }\n",
       "\n",
       "    .dataframe thead th {\n",
       "        text-align: right;\n",
       "    }\n",
       "</style>\n",
       "<table border=\"1\" class=\"dataframe\">\n",
       "  <thead>\n",
       "    <tr style=\"text-align: right;\">\n",
       "      <th></th>\n",
       "      <th>text</th>\n",
       "      <th>label</th>\n",
       "      <th>prompt_name</th>\n",
       "      <th>source</th>\n",
       "      <th>RDizzl3_seven</th>\n",
       "    </tr>\n",
       "  </thead>\n",
       "  <tbody>\n",
       "    <tr>\n",
       "      <th>0</th>\n",
       "      <td>Phones\\n\\nModern humans today are always on th...</td>\n",
       "      <td>0</td>\n",
       "      <td>Phones and driving</td>\n",
       "      <td>persuade_corpus</td>\n",
       "      <td>False</td>\n",
       "    </tr>\n",
       "    <tr>\n",
       "      <th>1</th>\n",
       "      <td>This essay will explain if drivers should or s...</td>\n",
       "      <td>0</td>\n",
       "      <td>Phones and driving</td>\n",
       "      <td>persuade_corpus</td>\n",
       "      <td>False</td>\n",
       "    </tr>\n",
       "    <tr>\n",
       "      <th>2</th>\n",
       "      <td>Driving while the use of cellular devices\\n\\nT...</td>\n",
       "      <td>0</td>\n",
       "      <td>Phones and driving</td>\n",
       "      <td>persuade_corpus</td>\n",
       "      <td>False</td>\n",
       "    </tr>\n",
       "    <tr>\n",
       "      <th>3</th>\n",
       "      <td>Phones &amp; Driving\\n\\nDrivers should not be able...</td>\n",
       "      <td>0</td>\n",
       "      <td>Phones and driving</td>\n",
       "      <td>persuade_corpus</td>\n",
       "      <td>False</td>\n",
       "    </tr>\n",
       "    <tr>\n",
       "      <th>4</th>\n",
       "      <td>Cell Phone Operation While Driving\\n\\nThe abil...</td>\n",
       "      <td>0</td>\n",
       "      <td>Phones and driving</td>\n",
       "      <td>persuade_corpus</td>\n",
       "      <td>False</td>\n",
       "    </tr>\n",
       "  </tbody>\n",
       "</table>\n",
       "</div>"
      ],
      "text/plain": [
       "                                                text  label  \\\n",
       "0  Phones\\n\\nModern humans today are always on th...      0   \n",
       "1  This essay will explain if drivers should or s...      0   \n",
       "2  Driving while the use of cellular devices\\n\\nT...      0   \n",
       "3  Phones & Driving\\n\\nDrivers should not be able...      0   \n",
       "4  Cell Phone Operation While Driving\\n\\nThe abil...      0   \n",
       "\n",
       "          prompt_name           source  RDizzl3_seven  \n",
       "0  Phones and driving  persuade_corpus          False  \n",
       "1  Phones and driving  persuade_corpus          False  \n",
       "2  Phones and driving  persuade_corpus          False  \n",
       "3  Phones and driving  persuade_corpus          False  \n",
       "4  Phones and driving  persuade_corpus          False  "
      ]
     },
     "execution_count": 65,
     "metadata": {},
     "output_type": "execute_result"
    }
   ],
   "source": [
    "# 0 for human \n",
    "dgait_df = pd.read_csv(\"daigt_train.csv\")\n",
    "dgait_df.head()"
   ]
  },
  {
   "cell_type": "code",
   "execution_count": 71,
   "id": "d021df1f",
   "metadata": {},
   "outputs": [],
   "source": [
    "dgait_df_human = dgait_df.query('label == 0')\n",
    "dgait_df_ai = dgait_df.query('label == 1')"
   ]
  },
  {
   "cell_type": "code",
   "execution_count": 73,
   "id": "aaa21c6e",
   "metadata": {},
   "outputs": [
    {
     "data": {
      "text/html": [
       "<div>\n",
       "<style scoped>\n",
       "    .dataframe tbody tr th:only-of-type {\n",
       "        vertical-align: middle;\n",
       "    }\n",
       "\n",
       "    .dataframe tbody tr th {\n",
       "        vertical-align: top;\n",
       "    }\n",
       "\n",
       "    .dataframe thead th {\n",
       "        text-align: right;\n",
       "    }\n",
       "</style>\n",
       "<table border=\"1\" class=\"dataframe\">\n",
       "  <thead>\n",
       "    <tr style=\"text-align: right;\">\n",
       "      <th></th>\n",
       "      <th>text</th>\n",
       "      <th>label</th>\n",
       "      <th>prompt_name</th>\n",
       "      <th>source</th>\n",
       "      <th>RDizzl3_seven</th>\n",
       "    </tr>\n",
       "  </thead>\n",
       "  <tbody>\n",
       "    <tr>\n",
       "      <th>0</th>\n",
       "      <td>Phones\\n\\nModern humans today are always on th...</td>\n",
       "      <td>0</td>\n",
       "      <td>Phones and driving</td>\n",
       "      <td>persuade_corpus</td>\n",
       "      <td>False</td>\n",
       "    </tr>\n",
       "    <tr>\n",
       "      <th>1</th>\n",
       "      <td>This essay will explain if drivers should or s...</td>\n",
       "      <td>0</td>\n",
       "      <td>Phones and driving</td>\n",
       "      <td>persuade_corpus</td>\n",
       "      <td>False</td>\n",
       "    </tr>\n",
       "    <tr>\n",
       "      <th>2</th>\n",
       "      <td>Driving while the use of cellular devices\\n\\nT...</td>\n",
       "      <td>0</td>\n",
       "      <td>Phones and driving</td>\n",
       "      <td>persuade_corpus</td>\n",
       "      <td>False</td>\n",
       "    </tr>\n",
       "    <tr>\n",
       "      <th>3</th>\n",
       "      <td>Phones &amp; Driving\\n\\nDrivers should not be able...</td>\n",
       "      <td>0</td>\n",
       "      <td>Phones and driving</td>\n",
       "      <td>persuade_corpus</td>\n",
       "      <td>False</td>\n",
       "    </tr>\n",
       "    <tr>\n",
       "      <th>4</th>\n",
       "      <td>Cell Phone Operation While Driving\\n\\nThe abil...</td>\n",
       "      <td>0</td>\n",
       "      <td>Phones and driving</td>\n",
       "      <td>persuade_corpus</td>\n",
       "      <td>False</td>\n",
       "    </tr>\n",
       "    <tr>\n",
       "      <th>...</th>\n",
       "      <td>...</td>\n",
       "      <td>...</td>\n",
       "      <td>...</td>\n",
       "      <td>...</td>\n",
       "      <td>...</td>\n",
       "    </tr>\n",
       "    <tr>\n",
       "      <th>43479</th>\n",
       "      <td>There has been a fuss about the Elector Colleg...</td>\n",
       "      <td>0</td>\n",
       "      <td>Does the electoral college work?</td>\n",
       "      <td>train_essays</td>\n",
       "      <td>True</td>\n",
       "    </tr>\n",
       "    <tr>\n",
       "      <th>43480</th>\n",
       "      <td>Limiting car usage has many advantages. Such a...</td>\n",
       "      <td>0</td>\n",
       "      <td>Car-free cities</td>\n",
       "      <td>train_essays</td>\n",
       "      <td>True</td>\n",
       "    </tr>\n",
       "    <tr>\n",
       "      <th>43481</th>\n",
       "      <td>There's a new trend that has been developing f...</td>\n",
       "      <td>0</td>\n",
       "      <td>Car-free cities</td>\n",
       "      <td>train_essays</td>\n",
       "      <td>True</td>\n",
       "    </tr>\n",
       "    <tr>\n",
       "      <th>43482</th>\n",
       "      <td>As we all know cars are a big part of our soci...</td>\n",
       "      <td>0</td>\n",
       "      <td>Car-free cities</td>\n",
       "      <td>train_essays</td>\n",
       "      <td>True</td>\n",
       "    </tr>\n",
       "    <tr>\n",
       "      <th>43483</th>\n",
       "      <td>Cars have been around since the 1800's and hav...</td>\n",
       "      <td>0</td>\n",
       "      <td>Car-free cities</td>\n",
       "      <td>train_essays</td>\n",
       "      <td>True</td>\n",
       "    </tr>\n",
       "  </tbody>\n",
       "</table>\n",
       "<p>27371 rows × 5 columns</p>\n",
       "</div>"
      ],
      "text/plain": [
       "                                                    text  label  \\\n",
       "0      Phones\\n\\nModern humans today are always on th...      0   \n",
       "1      This essay will explain if drivers should or s...      0   \n",
       "2      Driving while the use of cellular devices\\n\\nT...      0   \n",
       "3      Phones & Driving\\n\\nDrivers should not be able...      0   \n",
       "4      Cell Phone Operation While Driving\\n\\nThe abil...      0   \n",
       "...                                                  ...    ...   \n",
       "43479  There has been a fuss about the Elector Colleg...      0   \n",
       "43480  Limiting car usage has many advantages. Such a...      0   \n",
       "43481  There's a new trend that has been developing f...      0   \n",
       "43482  As we all know cars are a big part of our soci...      0   \n",
       "43483  Cars have been around since the 1800's and hav...      0   \n",
       "\n",
       "                            prompt_name           source  RDizzl3_seven  \n",
       "0                    Phones and driving  persuade_corpus          False  \n",
       "1                    Phones and driving  persuade_corpus          False  \n",
       "2                    Phones and driving  persuade_corpus          False  \n",
       "3                    Phones and driving  persuade_corpus          False  \n",
       "4                    Phones and driving  persuade_corpus          False  \n",
       "...                                 ...              ...            ...  \n",
       "43479  Does the electoral college work?     train_essays           True  \n",
       "43480                   Car-free cities     train_essays           True  \n",
       "43481                   Car-free cities     train_essays           True  \n",
       "43482                   Car-free cities     train_essays           True  \n",
       "43483                   Car-free cities     train_essays           True  \n",
       "\n",
       "[27371 rows x 5 columns]"
      ]
     },
     "execution_count": 73,
     "metadata": {},
     "output_type": "execute_result"
    }
   ],
   "source": [
    "dgait_df_human"
   ]
  },
  {
   "cell_type": "code",
   "execution_count": 95,
   "id": "746a0805",
   "metadata": {},
   "outputs": [
    {
     "data": {
      "text/plain": [
       "17497"
      ]
     },
     "execution_count": 95,
     "metadata": {},
     "output_type": "execute_result"
    }
   ],
   "source": [
    "len(dgait_df_ai)"
   ]
  },
  {
   "cell_type": "code",
   "execution_count": 99,
   "id": "103d9025",
   "metadata": {},
   "outputs": [
    {
     "data": {
      "text/plain": [
       "17497"
      ]
     },
     "execution_count": 99,
     "metadata": {},
     "output_type": "execute_result"
    }
   ],
   "source": [
    "len(dgait_df_ai.unique())"
   ]
  },
  {
   "cell_type": "code",
   "execution_count": 74,
   "id": "9893074a",
   "metadata": {},
   "outputs": [],
   "source": [
    "dgait_df_human = dgait_df_human['text']\n",
    "dgait_df_ai = dgait_df_ai['text']"
   ]
  },
  {
   "cell_type": "code",
   "execution_count": 75,
   "id": "fadda090",
   "metadata": {},
   "outputs": [],
   "source": [
    "dgait_df_human = dgait_df_human.apply(clean_text)\n",
    "dgait_df_ai = dgait_df_ai.apply(clean_text)"
   ]
  },
  {
   "cell_type": "code",
   "execution_count": 79,
   "id": "c4cddf7c",
   "metadata": {},
   "outputs": [],
   "source": [
    "# gpt_df_label = np.zeros(shape = [100], dtype = int)\n",
    "dgait_df_human_label  = np.ones(shape = [len(dgait_df_human)], dtype = int)\n",
    "dgait_df_ai_label  = np.zeros(shape = [len(dgait_df_ai)], dtype = int)"
   ]
  },
  {
   "cell_type": "code",
   "execution_count": 82,
   "id": "eeb05316",
   "metadata": {},
   "outputs": [
    {
     "data": {
      "text/plain": [
       "27086"
      ]
     },
     "execution_count": 82,
     "metadata": {},
     "output_type": "execute_result"
    }
   ],
   "source": [
    "bow_prediction = bow_model.predict(dgait_df_human)\n",
    "np.sum(bow_prediction == dgait_df_human_label)"
   ]
  },
  {
   "cell_type": "code",
   "execution_count": 83,
   "id": "f1603298",
   "metadata": {},
   "outputs": [
    {
     "data": {
      "text/plain": [
       "27371"
      ]
     },
     "execution_count": 83,
     "metadata": {},
     "output_type": "execute_result"
    }
   ],
   "source": [
    "len(dgait_df_human)"
   ]
  },
  {
   "cell_type": "code",
   "execution_count": 84,
   "id": "4428eb67",
   "metadata": {},
   "outputs": [
    {
     "data": {
      "text/plain": [
       "17497"
      ]
     },
     "execution_count": 84,
     "metadata": {},
     "output_type": "execute_result"
    }
   ],
   "source": [
    "len(dgait_df_ai)"
   ]
  },
  {
   "cell_type": "code",
   "execution_count": 96,
   "id": "010fc9a6",
   "metadata": {},
   "outputs": [
    {
     "data": {
      "text/plain": [
       "11672"
      ]
     },
     "execution_count": 96,
     "metadata": {},
     "output_type": "execute_result"
    }
   ],
   "source": [
    "bow_prediction = bow_model.predict(dgait_df_ai)\n",
    "np.sum(bow_prediction == dgait_df_ai_label)"
   ]
  },
  {
   "cell_type": "code",
   "execution_count": null,
   "id": "09397ec4",
   "metadata": {},
   "outputs": [],
   "source": []
  }
 ],
 "metadata": {
  "kernelspec": {
   "display_name": "Python 3 (ipykernel)",
   "language": "python",
   "name": "python3"
  },
  "language_info": {
   "codemirror_mode": {
    "name": "ipython",
    "version": 3
   },
   "file_extension": ".py",
   "mimetype": "text/x-python",
   "name": "python",
   "nbconvert_exporter": "python",
   "pygments_lexer": "ipython3",
   "version": "3.8.18"
  }
 },
 "nbformat": 4,
 "nbformat_minor": 5
}
